{
  "metadata": {
    "kernelspec": {
      "name": "python3",
      "display_name": "Python 3",
      "language": "python"
    },
    "language_info": {
      "name": "python",
      "version": "3.10.12",
      "mimetype": "text/x-python",
      "codemirror_mode": {
        "name": "ipython",
        "version": 3
      },
      "pygments_lexer": "ipython3",
      "nbconvert_exporter": "python",
      "file_extension": ".py"
    },
    "colab": {
      "private_outputs": true,
      "provenance": [],
      "name": "Breast Cancer - Logistic Regression",
      "include_colab_link": true
    },
    "kaggle": {
      "accelerator": "none",
      "dataSources": [
        {
          "sourceId": 408,
          "sourceType": "datasetVersion",
          "datasetId": 180
        }
      ],
      "dockerImageVersionId": 30918,
      "isInternetEnabled": false,
      "language": "python",
      "sourceType": "notebook",
      "isGpuEnabled": false
    }
  },
  "nbformat_minor": 0,
  "nbformat": 4,
  "cells": [
    {
      "cell_type": "markdown",
      "metadata": {
        "id": "view-in-github",
        "colab_type": "text"
      },
      "source": [
        "<a href=\"https://colab.research.google.com/github/Dilipd0812/Objective-Learn-how-to-clean-and-prepare-raw-data-for-ML./blob/main/Breast_Cancer_Logistic_Regression.ipynb\" target=\"_parent\"><img src=\"https://colab.research.google.com/assets/colab-badge.svg\" alt=\"Open In Colab\"/></a>"
      ]
    },
    {
      "source": [
        "# IMPORTANT: RUN THIS CELL IN ORDER TO IMPORT YOUR KAGGLE DATA SOURCES,\n",
        "# THEN FEEL FREE TO DELETE THIS CELL.\n",
        "# NOTE: THIS NOTEBOOK ENVIRONMENT DIFFERS FROM KAGGLE'S PYTHON\n",
        "# ENVIRONMENT SO THERE MAY BE MISSING LIBRARIES USED BY YOUR\n",
        "# NOTEBOOK.\n",
        "import kagglehub\n",
        "uciml_breast_cancer_wisconsin_data_path = kagglehub.dataset_download('uciml/breast-cancer-wisconsin-data')\n",
        "\n",
        "print('Data source import complete.')\n"
      ],
      "metadata": {
        "id": "kkYyYS7Zo2sE"
      },
      "cell_type": "code",
      "outputs": [],
      "execution_count": null
    },
    {
      "cell_type": "code",
      "source": [
        "import pandas as pd\n",
        "import numpy as np\n",
        "import seaborn as sns\n",
        "import matplotlib.pyplot as plt\n",
        "import os\n",
        "\n",
        "import warnings\n",
        "warnings.filterwarnings('ignore')"
      ],
      "metadata": {
        "id": "KEFUthEHxc72",
        "trusted": true,
        "execution": {
          "iopub.status.busy": "2025-04-02T05:29:06.35903Z",
          "iopub.execute_input": "2025-04-02T05:29:06.359491Z",
          "iopub.status.idle": "2025-04-02T05:29:06.364609Z",
          "shell.execute_reply.started": "2025-04-02T05:29:06.359453Z",
          "shell.execute_reply": "2025-04-02T05:29:06.36314Z"
        }
      },
      "outputs": [],
      "execution_count": null
    },
    {
      "cell_type": "code",
      "source": [
        "import kagglehub\n",
        "path = kagglehub.dataset_download(\"uciml/breast-cancer-wisconsin-data\")\n",
        "print(path)"
      ],
      "metadata": {
        "id": "S3cYKBhZygiG",
        "trusted": true,
        "execution": {
          "iopub.status.busy": "2025-04-02T05:29:06.365912Z",
          "iopub.execute_input": "2025-04-02T05:29:06.366224Z",
          "iopub.status.idle": "2025-04-02T05:29:06.671935Z",
          "shell.execute_reply.started": "2025-04-02T05:29:06.366197Z",
          "shell.execute_reply": "2025-04-02T05:29:06.671016Z"
        }
      },
      "outputs": [],
      "execution_count": null
    },
    {
      "cell_type": "code",
      "source": [
        "path"
      ],
      "metadata": {
        "id": "LplsaVPBzjIr",
        "trusted": true,
        "execution": {
          "iopub.status.busy": "2025-04-02T05:29:06.673963Z",
          "iopub.execute_input": "2025-04-02T05:29:06.674296Z",
          "iopub.status.idle": "2025-04-02T05:29:06.679415Z",
          "shell.execute_reply.started": "2025-04-02T05:29:06.674264Z",
          "shell.execute_reply": "2025-04-02T05:29:06.678504Z"
        }
      },
      "outputs": [],
      "execution_count": null
    },
    {
      "cell_type": "code",
      "source": [
        "try:\n",
        "    files = os.listdir(path)\n",
        "    for file in files:\n",
        "        print(file)\n",
        "except FileNotFoundError:\n",
        "    print(f\"Directory not found: {path}\")"
      ],
      "metadata": {
        "id": "K-nAkFXa0CXi",
        "trusted": true,
        "execution": {
          "iopub.status.busy": "2025-04-02T05:29:06.680986Z",
          "iopub.execute_input": "2025-04-02T05:29:06.681358Z",
          "iopub.status.idle": "2025-04-02T05:29:06.696913Z",
          "shell.execute_reply.started": "2025-04-02T05:29:06.681327Z",
          "shell.execute_reply": "2025-04-02T05:29:06.695862Z"
        }
      },
      "outputs": [],
      "execution_count": null
    },
    {
      "cell_type": "markdown",
      "source": [
        "### LOAD DATA"
      ],
      "metadata": {
        "id": "DcV6raVA0Pev"
      }
    },
    {
      "cell_type": "code",
      "source": [
        "df = pd.read_csv(path + '/data.csv')\n",
        "df.head()"
      ],
      "metadata": {
        "id": "yHyL6qOf0MIY",
        "trusted": true,
        "execution": {
          "iopub.status.busy": "2025-04-02T05:29:06.697856Z",
          "iopub.execute_input": "2025-04-02T05:29:06.698156Z",
          "iopub.status.idle": "2025-04-02T05:29:06.736605Z",
          "shell.execute_reply.started": "2025-04-02T05:29:06.698127Z",
          "shell.execute_reply": "2025-04-02T05:29:06.735738Z"
        }
      },
      "outputs": [],
      "execution_count": null
    },
    {
      "cell_type": "markdown",
      "source": [
        "### EDA"
      ],
      "metadata": {
        "id": "L6MfxoA30bua"
      }
    },
    {
      "cell_type": "code",
      "source": [
        "df. shape"
      ],
      "metadata": {
        "id": "3d4QccOM0MFq",
        "trusted": true,
        "execution": {
          "iopub.status.busy": "2025-04-02T05:29:06.737479Z",
          "iopub.execute_input": "2025-04-02T05:29:06.737732Z",
          "iopub.status.idle": "2025-04-02T05:29:06.743016Z",
          "shell.execute_reply.started": "2025-04-02T05:29:06.73771Z",
          "shell.execute_reply": "2025-04-02T05:29:06.742154Z"
        }
      },
      "outputs": [],
      "execution_count": null
    },
    {
      "cell_type": "code",
      "source": [
        "# Look for nulls if present any\n",
        "df.any().isnull()"
      ],
      "metadata": {
        "id": "gQ3txSm60MDC",
        "trusted": true,
        "execution": {
          "iopub.status.busy": "2025-04-02T05:29:06.744021Z",
          "iopub.execute_input": "2025-04-02T05:29:06.744392Z",
          "iopub.status.idle": "2025-04-02T05:29:06.763167Z",
          "shell.execute_reply.started": "2025-04-02T05:29:06.744357Z",
          "shell.execute_reply": "2025-04-02T05:29:06.762249Z"
        }
      },
      "outputs": [],
      "execution_count": null
    },
    {
      "cell_type": "code",
      "source": [
        "# Drop not required columns\n",
        "df.drop('Unnamed: 32', axis=1, inplace=True)"
      ],
      "metadata": {
        "id": "U9acznb50L_v",
        "trusted": true,
        "execution": {
          "iopub.status.busy": "2025-04-02T05:29:06.765753Z",
          "iopub.execute_input": "2025-04-02T05:29:06.766118Z",
          "iopub.status.idle": "2025-04-02T05:29:06.778062Z",
          "shell.execute_reply.started": "2025-04-02T05:29:06.766058Z",
          "shell.execute_reply": "2025-04-02T05:29:06.777191Z"
        }
      },
      "outputs": [],
      "execution_count": null
    },
    {
      "cell_type": "code",
      "source": [
        "# check duplicates\n",
        "df.duplicated().sum()"
      ],
      "metadata": {
        "id": "313KFuJN0L9k",
        "trusted": true,
        "execution": {
          "iopub.status.busy": "2025-04-02T05:29:06.779796Z",
          "iopub.execute_input": "2025-04-02T05:29:06.780136Z",
          "iopub.status.idle": "2025-04-02T05:29:06.801607Z",
          "shell.execute_reply.started": "2025-04-02T05:29:06.780096Z",
          "shell.execute_reply": "2025-04-02T05:29:06.800623Z"
        }
      },
      "outputs": [],
      "execution_count": null
    },
    {
      "cell_type": "code",
      "source": [
        "df.info()"
      ],
      "metadata": {
        "id": "64sG1M910L7v",
        "trusted": true,
        "execution": {
          "iopub.status.busy": "2025-04-02T05:29:06.802512Z",
          "iopub.execute_input": "2025-04-02T05:29:06.8028Z",
          "iopub.status.idle": "2025-04-02T05:29:06.813417Z",
          "shell.execute_reply.started": "2025-04-02T05:29:06.802775Z",
          "shell.execute_reply": "2025-04-02T05:29:06.812346Z"
        }
      },
      "outputs": [],
      "execution_count": null
    },
    {
      "cell_type": "code",
      "source": [
        "df.isna().sum()"
      ],
      "metadata": {
        "id": "gwL2zQJJ0L45",
        "trusted": true,
        "execution": {
          "iopub.status.busy": "2025-04-02T05:29:06.814379Z",
          "iopub.execute_input": "2025-04-02T05:29:06.814728Z",
          "iopub.status.idle": "2025-04-02T05:29:06.830939Z",
          "shell.execute_reply.started": "2025-04-02T05:29:06.814697Z",
          "shell.execute_reply": "2025-04-02T05:29:06.830093Z"
        }
      },
      "outputs": [],
      "execution_count": null
    },
    {
      "cell_type": "code",
      "source": [
        "# find unique value records to get the infromation on columns where LR can be performed\n",
        "df.nunique()"
      ],
      "metadata": {
        "id": "UycAOZop0L1U",
        "trusted": true,
        "execution": {
          "iopub.status.busy": "2025-04-02T05:29:06.831702Z",
          "iopub.execute_input": "2025-04-02T05:29:06.832Z",
          "iopub.status.idle": "2025-04-02T05:29:06.851514Z",
          "shell.execute_reply.started": "2025-04-02T05:29:06.831976Z",
          "shell.execute_reply": "2025-04-02T05:29:06.850392Z"
        }
      },
      "outputs": [],
      "execution_count": null
    },
    {
      "cell_type": "code",
      "source": [
        "df['diagnosis'].value_counts()"
      ],
      "metadata": {
        "id": "TlvE1Kbf0LyJ",
        "trusted": true,
        "execution": {
          "iopub.status.busy": "2025-04-02T05:29:06.852659Z",
          "iopub.execute_input": "2025-04-02T05:29:06.852946Z",
          "iopub.status.idle": "2025-04-02T05:29:06.86031Z",
          "shell.execute_reply.started": "2025-04-02T05:29:06.852913Z",
          "shell.execute_reply": "2025-04-02T05:29:06.859413Z"
        }
      },
      "outputs": [],
      "execution_count": null
    },
    {
      "cell_type": "code",
      "source": [
        "df = df.rename(columns={'diagnosis': 'target'})"
      ],
      "metadata": {
        "id": "riFnl6b80Luo",
        "trusted": true,
        "execution": {
          "iopub.status.busy": "2025-04-02T05:29:06.861256Z",
          "iopub.execute_input": "2025-04-02T05:29:06.861603Z",
          "iopub.status.idle": "2025-04-02T05:29:06.875251Z",
          "shell.execute_reply.started": "2025-04-02T05:29:06.86157Z",
          "shell.execute_reply": "2025-04-02T05:29:06.874362Z"
        }
      },
      "outputs": [],
      "execution_count": null
    },
    {
      "cell_type": "code",
      "source": [
        "df.target.replace({'M': 1, 'B': 0}, inplace=True)"
      ],
      "metadata": {
        "id": "fTPmlFS-1mfU",
        "trusted": true,
        "execution": {
          "iopub.status.busy": "2025-04-02T05:29:06.876223Z",
          "iopub.execute_input": "2025-04-02T05:29:06.876557Z",
          "iopub.status.idle": "2025-04-02T05:29:06.892895Z",
          "shell.execute_reply.started": "2025-04-02T05:29:06.876522Z",
          "shell.execute_reply": "2025-04-02T05:29:06.891903Z"
        }
      },
      "outputs": [],
      "execution_count": null
    },
    {
      "cell_type": "code",
      "source": [
        "df.target.value_counts()"
      ],
      "metadata": {
        "id": "fMFu70k-1uym",
        "trusted": true,
        "execution": {
          "iopub.status.busy": "2025-04-02T05:29:06.893907Z",
          "iopub.execute_input": "2025-04-02T05:29:06.894243Z",
          "iopub.status.idle": "2025-04-02T05:29:06.912288Z",
          "shell.execute_reply.started": "2025-04-02T05:29:06.89421Z",
          "shell.execute_reply": "2025-04-02T05:29:06.911112Z"
        }
      },
      "outputs": [],
      "execution_count": null
    },
    {
      "cell_type": "code",
      "source": [
        "df.target = df.target.astype('float64')"
      ],
      "metadata": {
        "id": "sSUb3its12jk",
        "trusted": true,
        "execution": {
          "iopub.status.busy": "2025-04-02T05:29:06.913327Z",
          "iopub.execute_input": "2025-04-02T05:29:06.913687Z",
          "iopub.status.idle": "2025-04-02T05:29:06.92813Z",
          "shell.execute_reply.started": "2025-04-02T05:29:06.913651Z",
          "shell.execute_reply": "2025-04-02T05:29:06.927135Z"
        }
      },
      "outputs": [],
      "execution_count": null
    },
    {
      "cell_type": "code",
      "source": [
        "df.info()"
      ],
      "metadata": {
        "id": "5_nURn3o2FgU",
        "trusted": true,
        "execution": {
          "iopub.status.busy": "2025-04-02T05:29:06.929115Z",
          "iopub.execute_input": "2025-04-02T05:29:06.929446Z",
          "iopub.status.idle": "2025-04-02T05:29:06.954451Z",
          "shell.execute_reply.started": "2025-04-02T05:29:06.92941Z",
          "shell.execute_reply": "2025-04-02T05:29:06.953313Z"
        }
      },
      "outputs": [],
      "execution_count": null
    },
    {
      "cell_type": "code",
      "source": [
        "# check data stats\n",
        "df.describe().T"
      ],
      "metadata": {
        "id": "Bnlr6-dM2Gz7",
        "trusted": true,
        "execution": {
          "iopub.status.busy": "2025-04-02T05:29:06.955363Z",
          "iopub.execute_input": "2025-04-02T05:29:06.955668Z",
          "iopub.status.idle": "2025-04-02T05:29:07.038694Z",
          "shell.execute_reply.started": "2025-04-02T05:29:06.955641Z",
          "shell.execute_reply": "2025-04-02T05:29:07.037847Z"
        }
      },
      "outputs": [],
      "execution_count": null
    },
    {
      "cell_type": "markdown",
      "source": [
        "### Analysis"
      ],
      "metadata": {
        "id": "wkAZaN592054"
      }
    },
    {
      "cell_type": "code",
      "source": [
        "df.target.value_counts()"
      ],
      "metadata": {
        "id": "v6J06c0K2Kol",
        "trusted": true,
        "execution": {
          "iopub.status.busy": "2025-04-02T05:29:07.039639Z",
          "iopub.execute_input": "2025-04-02T05:29:07.039906Z",
          "iopub.status.idle": "2025-04-02T05:29:07.04706Z",
          "shell.execute_reply.started": "2025-04-02T05:29:07.039883Z",
          "shell.execute_reply": "2025-04-02T05:29:07.046175Z"
        }
      },
      "outputs": [],
      "execution_count": null
    },
    {
      "cell_type": "code",
      "source": [
        "df['target'].value_counts().plot(kind='bar',edgecolor='black',color=['lightsteelblue','navajowhite'])\n",
        "plt.title(\" Target\",fontsize=20)\n",
        "plt.show()"
      ],
      "metadata": {
        "id": "Dtr34XxX23R7",
        "trusted": true,
        "execution": {
          "iopub.status.busy": "2025-04-02T05:29:07.048127Z",
          "iopub.execute_input": "2025-04-02T05:29:07.048525Z",
          "iopub.status.idle": "2025-04-02T05:29:07.215306Z",
          "shell.execute_reply.started": "2025-04-02T05:29:07.048491Z",
          "shell.execute_reply": "2025-04-02T05:29:07.2143Z"
        }
      },
      "outputs": [],
      "execution_count": null
    },
    {
      "cell_type": "code",
      "source": [
        "cor = df.corr()\n",
        "cor"
      ],
      "metadata": {
        "id": "cM8B19_y23PG",
        "trusted": true,
        "execution": {
          "iopub.status.busy": "2025-04-02T05:29:07.216221Z",
          "iopub.execute_input": "2025-04-02T05:29:07.216516Z",
          "iopub.status.idle": "2025-04-02T05:29:07.254625Z",
          "shell.execute_reply.started": "2025-04-02T05:29:07.216493Z",
          "shell.execute_reply": "2025-04-02T05:29:07.253703Z"
        }
      },
      "outputs": [],
      "execution_count": null
    },
    {
      "cell_type": "code",
      "source": [
        "# SNS HEATMAP\n",
        "plt.figure(figsize=(20,20))\n",
        "sns.heatmap(cor, annot=True, cmap=plt.cm.CMRmap_r)\n",
        "plt.show()"
      ],
      "metadata": {
        "id": "8eIhPrSo23Lu",
        "trusted": true,
        "execution": {
          "iopub.status.busy": "2025-04-02T05:29:07.258106Z",
          "iopub.execute_input": "2025-04-02T05:29:07.258388Z"
        }
      },
      "outputs": [],
      "execution_count": null
    },
    {
      "cell_type": "code",
      "source": [
        "threshold = 0.75\n",
        "flr = np.abs(cor[\"target\"] > threshold)\n",
        "cf = cor.columns[flr].tolist()\n",
        "cf"
      ],
      "metadata": {
        "id": "u4yLT2wd23I1",
        "trusted": true,
        "execution": {
          "iopub.status.busy": "2025-04-02T05:29:09.890896Z",
          "iopub.execute_input": "2025-04-02T05:29:09.891173Z",
          "iopub.status.idle": "2025-04-02T05:29:09.898277Z"
        }
      },
      "outputs": [],
      "execution_count": null
    },
    {
      "cell_type": "code",
      "source": [
        "# SNS Clustermap\n",
        "sns.clustermap(df[cf].corr(), annot=True, cmap=plt.cm.CMRmap_r)\n",
        "plt.show()"
      ],
      "metadata": {
        "id": "8QJpS5Bd4dHg",
        "trusted": true,
        "execution": {
          "iopub.status.busy": "2025-04-02T05:29:09.899411Z",
          "iopub.execute_input": "2025-04-02T05:29:09.899758Z",
          "iopub.status.idle": "2025-04-02T05:29:10.339112Z"
        }
      },
      "outputs": [],
      "execution_count": null
    },
    {
      "cell_type": "code",
      "source": [
        "# paiplot\n",
        "sns.pairplot(df[cf], diag_kind = \"kde\" , markers = \"*\", hue=\"target\")\n",
        "plt.show()"
      ],
      "metadata": {
        "id": "keklATMa48CF",
        "trusted": true,
        "execution": {
          "iopub.status.busy": "2025-04-02T05:30:11.494578Z",
          "iopub.execute_input": "2025-04-02T05:30:11.494941Z"
        }
      },
      "outputs": [],
      "execution_count": null
    },
    {
      "cell_type": "markdown",
      "source": [
        "### Model"
      ],
      "metadata": {
        "id": "QEfMs8oJ63Cy"
      }
    },
    {
      "cell_type": "code",
      "source": [
        "from sklearn.model_selection import train_test_split\n",
        "from sklearn.preprocessing import StandardScaler\n",
        "from sklearn.linear_model import LogisticRegression\n",
        "from sklearn.metrics import accuracy_score, confusion_matrix, classification_report\n",
        "from sklearn.model_selection import GridSearchCV"
      ],
      "metadata": {
        "id": "DZ82041f5G34",
        "trusted": true,
        "execution": {
          "iopub.status.busy": "2025-04-02T05:31:52.272368Z",
          "iopub.execute_input": "2025-04-02T05:31:52.272719Z",
          "iopub.status.idle": "2025-04-02T05:31:52.277227Z",
          "shell.execute_reply.started": "2025-04-02T05:31:52.272692Z",
          "shell.execute_reply": "2025-04-02T05:31:52.27619Z"
        }
      },
      "outputs": [],
      "execution_count": null
    },
    {
      "cell_type": "code",
      "source": [
        "# split the data\n",
        "x = df.drop('target', axis=1)\n",
        "y = df['target']"
      ],
      "metadata": {
        "id": "3n6ywY3I5G1E",
        "trusted": true,
        "execution": {
          "iopub.status.busy": "2025-04-02T05:31:53.734321Z",
          "iopub.execute_input": "2025-04-02T05:31:53.734649Z",
          "iopub.status.idle": "2025-04-02T05:31:53.740174Z",
          "shell.execute_reply.started": "2025-04-02T05:31:53.734623Z",
          "shell.execute_reply": "2025-04-02T05:31:53.739219Z"
        }
      },
      "outputs": [],
      "execution_count": null
    },
    {
      "cell_type": "code",
      "source": [
        "x_train, x_test, y_train, y_test = train_test_split(x, y, test_size=0.2, random_state=42)"
      ],
      "metadata": {
        "id": "B70WBbTw5GxF",
        "trusted": true,
        "execution": {
          "iopub.status.busy": "2025-04-02T05:31:55.757116Z",
          "iopub.execute_input": "2025-04-02T05:31:55.75745Z",
          "iopub.status.idle": "2025-04-02T05:31:55.764472Z",
          "shell.execute_reply.started": "2025-04-02T05:31:55.757425Z",
          "shell.execute_reply": "2025-04-02T05:31:55.763363Z"
        }
      },
      "outputs": [],
      "execution_count": null
    },
    {
      "cell_type": "code",
      "source": [
        "sc = StandardScaler()\n",
        "x_train = sc.fit_transform(x_train)\n",
        "x_test = sc.transform(x_test)"
      ],
      "metadata": {
        "id": "u1tMlttH5Gue",
        "trusted": true,
        "execution": {
          "iopub.status.busy": "2025-04-02T05:31:56.199952Z",
          "iopub.execute_input": "2025-04-02T05:31:56.200322Z",
          "iopub.status.idle": "2025-04-02T05:31:56.211659Z",
          "shell.execute_reply.started": "2025-04-02T05:31:56.200293Z",
          "shell.execute_reply": "2025-04-02T05:31:56.210703Z"
        }
      },
      "outputs": [],
      "execution_count": null
    },
    {
      "cell_type": "code",
      "source": [
        "def met(model):\n",
        "  model.fit(x_train, y_train)\n",
        "  pred = model.predict(x_test)\n",
        "\n",
        "  acc = accuracy_score(pred, y_test)\n",
        "  cm = confusion_matrix(pred, y_test)\n",
        "  ncm = confusion_matrix(pred, y_test, normalize='true')\n",
        "\n",
        "  # Plot the confusion matrix\n",
        "  print(\"Confusion Matrix\")\n",
        "  sns.heatmap(cm, annot=True, fmt='d',cmap=['lightsteelblue','navajowhite'])\n",
        "  plt.title('Confusion matrix')\n",
        "  plt.xlabel('Predcted lablel')\n",
        "  plt.ylabel('True lable')\n",
        "  plt.show()\n",
        "\n",
        "  # Plot the Normalize Confusion Matrix\n",
        "  print(\"Normalize Confusion Matrix\")\n",
        "  sns.heatmap(ncm, annot=True, fmt='.2f',cmap=['lightsteelblue','navajowhite'])\n",
        "  plt.title('Normalize Confusion matrix')\n",
        "  plt.xlabel('Predcted lablel')\n",
        "  plt.ylabel('True lable')\n",
        "  plt.show()\n",
        "\n",
        "  print(cm)\n",
        "  print(classification_report(pred, y_test))\n",
        "  print(\"Accuracy Score: \", acc)"
      ],
      "metadata": {
        "id": "qqv2raPv7vUS",
        "trusted": true,
        "execution": {
          "iopub.status.busy": "2025-04-02T05:31:56.769765Z",
          "iopub.execute_input": "2025-04-02T05:31:56.77012Z",
          "iopub.status.idle": "2025-04-02T05:31:56.776922Z",
          "shell.execute_reply.started": "2025-04-02T05:31:56.770063Z",
          "shell.execute_reply": "2025-04-02T05:31:56.775707Z"
        }
      },
      "outputs": [],
      "execution_count": null
    },
    {
      "cell_type": "code",
      "source": [
        "model = LogisticRegression()\n",
        "met(model)"
      ],
      "metadata": {
        "trusted": true,
        "id": "y2y96KTmo2sL"
      },
      "outputs": [],
      "execution_count": null
    }
  ]
}