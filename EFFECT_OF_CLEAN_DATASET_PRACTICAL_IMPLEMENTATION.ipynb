{
  "metadata": {
    "kernelspec": {
      "name": "python3",
      "display_name": "Python 3",
      "language": "python"
    },
    "language_info": {
      "name": "python",
      "version": "3.11.11",
      "mimetype": "text/x-python",
      "codemirror_mode": {
        "name": "ipython",
        "version": 3
      },
      "pygments_lexer": "ipython3",
      "nbconvert_exporter": "python",
      "file_extension": ".py"
    },
    "kaggle": {
      "accelerator": "none",
      "dataSources": [
        {
          "sourceId": 420,
          "sourceType": "datasetVersion",
          "datasetId": 19
        }
      ],
      "dockerImageVersionId": 31040,
      "isInternetEnabled": true,
      "language": "python",
      "sourceType": "notebook",
      "isGpuEnabled": false
    },
    "colab": {
      "name": "EFFECT OF CLEAN DATASET PRACTICAL IMPLEMENTATION",
      "provenance": [],
      "include_colab_link": true
    }
  },
  "nbformat_minor": 0,
  "nbformat": 4,
  "cells": [
    {
      "cell_type": "markdown",
      "metadata": {
        "id": "view-in-github",
        "colab_type": "text"
      },
      "source": [
        "<a href=\"https://colab.research.google.com/github/Dilipd0812/Objective-Learn-how-to-clean-and-prepare-raw-data-for-ML./blob/main/EFFECT_OF_CLEAN_DATASET_PRACTICAL_IMPLEMENTATION.ipynb\" target=\"_parent\"><img src=\"https://colab.research.google.com/assets/colab-badge.svg\" alt=\"Open In Colab\"/></a>"
      ]
    },
    {
      "source": [
        "# IMPORTANT: RUN THIS CELL IN ORDER TO IMPORT YOUR KAGGLE DATA SOURCES,\n",
        "# THEN FEEL FREE TO DELETE THIS CELL.\n",
        "# NOTE: THIS NOTEBOOK ENVIRONMENT DIFFERS FROM KAGGLE'S PYTHON\n",
        "# ENVIRONMENT SO THERE MAY BE MISSING LIBRARIES USED BY YOUR\n",
        "# NOTEBOOK.\n",
        "import kagglehub\n",
        "uciml_iris_path = kagglehub.dataset_download('uciml/iris')\n",
        "\n",
        "print('Data source import complete.')\n"
      ],
      "metadata": {
        "id": "DmUOrSHAZQQU"
      },
      "cell_type": "code",
      "outputs": [],
      "execution_count": null
    },
    {
      "cell_type": "markdown",
      "source": [
        "# **INTRODUCTION**\n",
        "- **Hello Everyone In this Notebook we will be working on famous classic Machine Learning project using the famous Iris dataset!**\n",
        "- **This dataset contains measurements of three different Iris flower species: Setosa, Versicolor, and Virginica. Each flower sample is described by four features:**\n",
        "\n",
        "- **Sepal Length**\n",
        "\n",
        "- **Sepal Width**\n",
        "\n",
        "- **Petal Length**\n",
        "\n",
        "- **Petal Width**\n",
        "\n",
        "**Our goal in this project is to build a robust Machine Learning model that can accurately classify a flower species based on its measurements.**"
      ],
      "metadata": {
        "id": "4cfeea4a-0f20-4b5d-a430-ec22efe5a912"
      }
    },
    {
      "cell_type": "markdown",
      "source": [
        "# **OBJECTIVE**\n",
        "\n",
        "- **Understand the structure and distribution of the Iris dataset.**\n",
        "\n",
        "- **Perform Exploratory Data Analysis (EDA) to identify feature patterns.**\n",
        "\n",
        "- **Apply Data Preprocessing techniques if necessary.**\n",
        "\n",
        "- **Train and evaluate a classification model (e.g., Logistic Regression, KNN, SVM, Decision Tree, etc.).**\n",
        "\n",
        "- **Use appropriate metrics like accuracy, precision, recall, and confusion matrix to evaluate model performance.**\n",
        "\n",
        "- **Provide insightful visualizations and interpretations to make the analysis beginner-friendly.**\n",
        "\n"
      ],
      "metadata": {
        "id": "0198d481-5bee-4c49-a364-f21b0c7f508c"
      }
    },
    {
      "cell_type": "markdown",
      "source": [
        "# **IMPORTING LIBRAARIES**\n",
        "- **We begin by importing essential libraries such as pandas, numpy, matplotlib, seaborn, and scikit-learn.**"
      ],
      "metadata": {
        "id": "b81ad23c-25d2-43b0-bfdd-16be76a40382"
      }
    },
    {
      "cell_type": "code",
      "source": [
        "import pandas as pd     #IMPORTING REQUIRED LIBRARIES\n",
        "import numpy as np\n",
        "import matplotlib.pyplot as plt\n",
        "import seaborn as sns"
      ],
      "metadata": {
        "trusted": true,
        "execution": {
          "iopub.status.busy": "2025-05-26T16:26:14.438315Z",
          "iopub.execute_input": "2025-05-26T16:26:14.438708Z",
          "iopub.status.idle": "2025-05-26T16:26:14.443619Z",
          "shell.execute_reply.started": "2025-05-26T16:26:14.438685Z",
          "shell.execute_reply": "2025-05-26T16:26:14.442822Z"
        },
        "id": "eed9c95c"
      },
      "outputs": [],
      "execution_count": null
    },
    {
      "cell_type": "markdown",
      "source": [
        "# **Exploring the Dataset**\n",
        "\n",
        "**Before training a model, it’s crucial to explore the dataset:**\n",
        "\n",
        "- **Check for missing values**\n",
        "\n",
        "- **Understand the distribution of each feature**\n",
        "\n",
        "- **Visualize relationships between features and classes**"
      ],
      "metadata": {
        "id": "0b910a6b-1bef-4d9e-9b54-c6949828d8b0"
      }
    },
    {
      "cell_type": "code",
      "source": [
        "df=pd.read_csv(\"/kaggle/input/iris/Iris.csv\")\n",
        "df.head(100)"
      ],
      "metadata": {
        "trusted": true,
        "execution": {
          "iopub.status.busy": "2025-05-26T16:26:14.451722Z",
          "iopub.execute_input": "2025-05-26T16:26:14.452084Z",
          "iopub.status.idle": "2025-05-26T16:26:14.4895Z",
          "shell.execute_reply.started": "2025-05-26T16:26:14.452058Z",
          "shell.execute_reply": "2025-05-26T16:26:14.488748Z"
        },
        "id": "89c93ad7"
      },
      "outputs": [],
      "execution_count": null
    },
    {
      "cell_type": "markdown",
      "source": [
        "# **Data Preprocessing**\n",
        "**This includes:**\n",
        "\n",
        "- **Encoding target labels (if needed)**\n",
        "\n",
        "- **Scaling features (optional for some models)**\n",
        "\n",
        "- **Splitting the dataset into training and testing sets**"
      ],
      "metadata": {
        "id": "dab46146-5707-406f-9f6c-5e74826567ba"
      }
    },
    {
      "cell_type": "code",
      "source": [
        "df.isnull().sum()"
      ],
      "metadata": {
        "trusted": true,
        "execution": {
          "iopub.status.busy": "2025-05-26T16:26:14.490739Z",
          "iopub.execute_input": "2025-05-26T16:26:14.491049Z",
          "iopub.status.idle": "2025-05-26T16:26:14.498676Z",
          "shell.execute_reply.started": "2025-05-26T16:26:14.491019Z",
          "shell.execute_reply": "2025-05-26T16:26:14.497315Z"
        },
        "id": "a20144b2"
      },
      "outputs": [],
      "execution_count": null
    },
    {
      "cell_type": "code",
      "source": [
        "np.unique(df['Species'])"
      ],
      "metadata": {
        "trusted": true,
        "execution": {
          "iopub.status.busy": "2025-05-26T16:26:14.499806Z",
          "iopub.execute_input": "2025-05-26T16:26:14.50008Z",
          "iopub.status.idle": "2025-05-26T16:26:14.518402Z",
          "shell.execute_reply.started": "2025-05-26T16:26:14.50006Z",
          "shell.execute_reply": "2025-05-26T16:26:14.517685Z"
        },
        "id": "4795895a"
      },
      "outputs": [],
      "execution_count": null
    },
    {
      "cell_type": "code",
      "source": [
        "df.head()"
      ],
      "metadata": {
        "trusted": true,
        "execution": {
          "iopub.status.busy": "2025-05-26T16:26:14.520439Z",
          "iopub.execute_input": "2025-05-26T16:26:14.520802Z",
          "iopub.status.idle": "2025-05-26T16:26:14.542856Z",
          "shell.execute_reply.started": "2025-05-26T16:26:14.52077Z",
          "shell.execute_reply": "2025-05-26T16:26:14.541824Z"
        },
        "id": "543781a2"
      },
      "outputs": [],
      "execution_count": null
    },
    {
      "cell_type": "code",
      "source": [
        "df.shape"
      ],
      "metadata": {
        "trusted": true,
        "execution": {
          "iopub.status.busy": "2025-05-26T16:26:14.543835Z",
          "iopub.execute_input": "2025-05-26T16:26:14.544171Z",
          "iopub.status.idle": "2025-05-26T16:26:14.561861Z",
          "shell.execute_reply.started": "2025-05-26T16:26:14.544151Z",
          "shell.execute_reply": "2025-05-26T16:26:14.561045Z"
        },
        "id": "24b1f767"
      },
      "outputs": [],
      "execution_count": null
    },
    {
      "cell_type": "code",
      "source": [
        "df.describe()"
      ],
      "metadata": {
        "trusted": true,
        "execution": {
          "iopub.status.busy": "2025-05-26T16:26:14.562847Z",
          "iopub.execute_input": "2025-05-26T16:26:14.563124Z",
          "iopub.status.idle": "2025-05-26T16:26:14.596169Z",
          "shell.execute_reply.started": "2025-05-26T16:26:14.563104Z",
          "shell.execute_reply": "2025-05-26T16:26:14.59515Z"
        },
        "id": "0e796438"
      },
      "outputs": [],
      "execution_count": null
    },
    {
      "cell_type": "code",
      "source": [
        "from sklearn.preprocessing import LabelEncoder\n",
        "le =LabelEncoder()                                                                                     #string to numeric value\n"
      ],
      "metadata": {
        "trusted": true,
        "execution": {
          "iopub.status.busy": "2025-05-26T16:26:14.597705Z",
          "iopub.execute_input": "2025-05-26T16:26:14.598073Z",
          "iopub.status.idle": "2025-05-26T16:26:14.602786Z",
          "shell.execute_reply.started": "2025-05-26T16:26:14.598037Z",
          "shell.execute_reply": "2025-05-26T16:26:14.601828Z"
        },
        "id": "46350661"
      },
      "outputs": [],
      "execution_count": null
    },
    {
      "cell_type": "code",
      "source": [
        "df['Species']=le.fit_transform(df['Species'])\n",
        "df.head()"
      ],
      "metadata": {
        "trusted": true,
        "execution": {
          "iopub.status.busy": "2025-05-26T16:26:14.605368Z",
          "iopub.execute_input": "2025-05-26T16:26:14.605664Z",
          "iopub.status.idle": "2025-05-26T16:26:14.627952Z",
          "shell.execute_reply.started": "2025-05-26T16:26:14.60564Z",
          "shell.execute_reply": "2025-05-26T16:26:14.626738Z"
        },
        "id": "efa8c6ba"
      },
      "outputs": [],
      "execution_count": null
    },
    {
      "cell_type": "code",
      "source": [
        "df.corr()"
      ],
      "metadata": {
        "trusted": true,
        "execution": {
          "iopub.status.busy": "2025-05-26T16:26:14.628869Z",
          "iopub.execute_input": "2025-05-26T16:26:14.629227Z",
          "iopub.status.idle": "2025-05-26T16:26:14.651801Z",
          "shell.execute_reply.started": "2025-05-26T16:26:14.629197Z",
          "shell.execute_reply": "2025-05-26T16:26:14.650679Z"
        },
        "id": "f85d5a20"
      },
      "outputs": [],
      "execution_count": null
    },
    {
      "cell_type": "code",
      "source": [
        "corr=df.corr()\n",
        "sns.heatmap(df.corr(),annot=True)"
      ],
      "metadata": {
        "trusted": true,
        "execution": {
          "iopub.status.busy": "2025-05-26T16:26:14.653132Z",
          "iopub.execute_input": "2025-05-26T16:26:14.65343Z",
          "iopub.status.idle": "2025-05-26T16:26:14.995948Z",
          "shell.execute_reply.started": "2025-05-26T16:26:14.653398Z",
          "shell.execute_reply": "2025-05-26T16:26:14.994994Z"
        },
        "id": "71ba4797"
      },
      "outputs": [],
      "execution_count": null
    },
    {
      "cell_type": "code",
      "source": [
        "from sklearn.model_selection import train_test_split\n",
        "X=df.drop(columns=['Species'])\n",
        "Y=df['Species']\n",
        "x_train,x_test,y_train,y_test=train_test_split(X,Y,test_size=0.3)"
      ],
      "metadata": {
        "trusted": true,
        "execution": {
          "iopub.status.busy": "2025-05-26T16:26:14.996815Z",
          "iopub.execute_input": "2025-05-26T16:26:14.99708Z",
          "iopub.status.idle": "2025-05-26T16:26:15.008447Z",
          "shell.execute_reply.started": "2025-05-26T16:26:14.99706Z",
          "shell.execute_reply": "2025-05-26T16:26:15.00666Z"
        },
        "id": "c64866c3"
      },
      "outputs": [],
      "execution_count": null
    },
    {
      "cell_type": "code",
      "source": [
        "from sklearn.linear_model import LogisticRegression\n",
        "model =LogisticRegression()"
      ],
      "metadata": {
        "trusted": true,
        "execution": {
          "iopub.status.busy": "2025-05-26T16:26:15.009612Z",
          "iopub.execute_input": "2025-05-26T16:26:15.010003Z",
          "iopub.status.idle": "2025-05-26T16:26:15.027891Z",
          "shell.execute_reply.started": "2025-05-26T16:26:15.009977Z",
          "shell.execute_reply": "2025-05-26T16:26:15.026885Z"
        },
        "id": "abfa08f5"
      },
      "outputs": [],
      "execution_count": null
    },
    {
      "cell_type": "code",
      "source": [
        "model.fit(x_train,y_train)"
      ],
      "metadata": {
        "trusted": true,
        "execution": {
          "iopub.status.busy": "2025-05-26T16:26:15.029046Z",
          "iopub.execute_input": "2025-05-26T16:26:15.029291Z",
          "iopub.status.idle": "2025-05-26T16:26:15.083142Z",
          "shell.execute_reply.started": "2025-05-26T16:26:15.029272Z",
          "shell.execute_reply": "2025-05-26T16:26:15.081325Z"
        },
        "id": "a3dfee6d"
      },
      "outputs": [],
      "execution_count": null
    },
    {
      "cell_type": "code",
      "source": [
        "print(\"accuracy:\",model.score(x_test,y_test)*100)"
      ],
      "metadata": {
        "trusted": true,
        "execution": {
          "iopub.status.busy": "2025-05-26T16:26:15.084239Z",
          "iopub.execute_input": "2025-05-26T16:26:15.08561Z",
          "iopub.status.idle": "2025-05-26T16:26:15.09736Z",
          "shell.execute_reply.started": "2025-05-26T16:26:15.08558Z",
          "shell.execute_reply": "2025-05-26T16:26:15.096557Z"
        },
        "id": "72809ff2"
      },
      "outputs": [],
      "execution_count": null
    },
    {
      "cell_type": "markdown",
      "source": [
        "# **WHY 100 PERCENT ACCURACY ?**\n",
        "## Why is the Accuracy 100%?\n",
        "\n",
        "While achieving 100% accuracy can seem suspicious at first, in this case it is **not** due to overfitting. Here's why:\n",
        "\n",
        "- **The Iris dataset is well-structured and balanced with 3 clear-cut classes.**\n",
        "- **The features (like petal length, petal width) are highly discriminative, especially for classifying 'Setosa'.**\n",
        "- **We used **Stratified K-Fold Cross Validation**, and our model performed perfectly on every fold.**\n",
        "- **There is minimal noise in the dataset, and the class boundaries are very clear.**\n",
        "\n",
        "**This makes the Iris dataset a perfect starting point to experiment with basic classification models.**\n"
      ],
      "metadata": {
        "id": "d590cf7c-2538-462d-a9bb-5117cfd20254"
      }
    },
    {
      "cell_type": "markdown",
      "source": [
        "# **APPLYING CROSS VALIDATION FOR PROPER EVALUATION**\n",
        "**Next Steps**\n",
        "- **To further validate our model, we can:**\n",
        "\n",
        "- **Apply cross-validation to ensure the results are consistent**\n",
        "\n",
        "- **Test with other models (e.g., KNN, SVM, XGBoost)**\n",
        "\n",
        "**Visualize decision boundaries**"
      ],
      "metadata": {
        "id": "b287e39d-b445-471a-a041-c5fb7c994ddd"
      }
    },
    {
      "cell_type": "code",
      "source": [
        "from sklearn.svm import SVC\n",
        "model=SVC()\n"
      ],
      "metadata": {
        "trusted": true,
        "execution": {
          "iopub.status.busy": "2025-05-26T16:26:15.098566Z",
          "iopub.execute_input": "2025-05-26T16:26:15.098852Z",
          "iopub.status.idle": "2025-05-26T16:26:15.117767Z",
          "shell.execute_reply.started": "2025-05-26T16:26:15.09883Z",
          "shell.execute_reply": "2025-05-26T16:26:15.117062Z"
        },
        "id": "21bec6e4"
      },
      "outputs": [],
      "execution_count": null
    },
    {
      "cell_type": "code",
      "source": [
        "model.fit(x_train,y_train)"
      ],
      "metadata": {
        "trusted": true,
        "execution": {
          "iopub.status.busy": "2025-05-26T16:26:15.11887Z",
          "iopub.execute_input": "2025-05-26T16:26:15.121155Z",
          "iopub.status.idle": "2025-05-26T16:26:15.148586Z",
          "shell.execute_reply.started": "2025-05-26T16:26:15.121125Z",
          "shell.execute_reply": "2025-05-26T16:26:15.147836Z"
        },
        "id": "e0d1cee8"
      },
      "outputs": [],
      "execution_count": null
    },
    {
      "cell_type": "code",
      "source": [
        "model.score(x_test,y_test)"
      ],
      "metadata": {
        "trusted": true,
        "execution": {
          "iopub.status.busy": "2025-05-26T16:26:15.150146Z",
          "iopub.execute_input": "2025-05-26T16:26:15.150437Z",
          "iopub.status.idle": "2025-05-26T16:26:15.168906Z",
          "shell.execute_reply.started": "2025-05-26T16:26:15.150415Z",
          "shell.execute_reply": "2025-05-26T16:26:15.168176Z"
        },
        "id": "3794cf4a"
      },
      "outputs": [],
      "execution_count": null
    },
    {
      "cell_type": "code",
      "source": [
        "#knn\n",
        "from sklearn.neighbors import KNeighborsClassifier\n",
        "model=KNeighborsClassifier()"
      ],
      "metadata": {
        "trusted": true,
        "execution": {
          "iopub.status.busy": "2025-05-26T16:26:15.16955Z",
          "iopub.execute_input": "2025-05-26T16:26:15.169809Z",
          "iopub.status.idle": "2025-05-26T16:26:15.182811Z",
          "shell.execute_reply.started": "2025-05-26T16:26:15.169789Z",
          "shell.execute_reply": "2025-05-26T16:26:15.181985Z"
        },
        "id": "83d23d30"
      },
      "outputs": [],
      "execution_count": null
    },
    {
      "cell_type": "code",
      "source": [
        "model.fit(x_train,y_train)"
      ],
      "metadata": {
        "trusted": true,
        "execution": {
          "iopub.status.busy": "2025-05-26T16:26:15.188329Z",
          "iopub.execute_input": "2025-05-26T16:26:15.189833Z",
          "iopub.status.idle": "2025-05-26T16:26:15.206138Z",
          "shell.execute_reply.started": "2025-05-26T16:26:15.189802Z",
          "shell.execute_reply": "2025-05-26T16:26:15.204952Z"
        },
        "id": "4bbc82c2"
      },
      "outputs": [],
      "execution_count": null
    },
    {
      "cell_type": "code",
      "source": [
        "model.score(x_test,y_test)"
      ],
      "metadata": {
        "trusted": true,
        "execution": {
          "iopub.status.busy": "2025-05-26T16:26:15.207229Z",
          "iopub.execute_input": "2025-05-26T16:26:15.20764Z",
          "iopub.status.idle": "2025-05-26T16:26:15.228523Z",
          "shell.execute_reply.started": "2025-05-26T16:26:15.207594Z",
          "shell.execute_reply": "2025-05-26T16:26:15.227372Z"
        },
        "id": "53d22a21"
      },
      "outputs": [],
      "execution_count": null
    },
    {
      "cell_type": "code",
      "source": [
        "from sklearn.tree import DecisionTreeClassifier\n",
        "model=DecisionTreeClassifier()"
      ],
      "metadata": {
        "trusted": true,
        "execution": {
          "iopub.status.busy": "2025-05-26T16:26:15.22959Z",
          "iopub.execute_input": "2025-05-26T16:26:15.229879Z",
          "iopub.status.idle": "2025-05-26T16:26:15.239592Z",
          "shell.execute_reply.started": "2025-05-26T16:26:15.229857Z",
          "shell.execute_reply": "2025-05-26T16:26:15.238628Z"
        },
        "id": "6a7a2ffb"
      },
      "outputs": [],
      "execution_count": null
    },
    {
      "cell_type": "code",
      "source": [
        "model.fit(x_train,y_train)"
      ],
      "metadata": {
        "trusted": true,
        "execution": {
          "iopub.status.busy": "2025-05-26T16:26:15.240815Z",
          "iopub.execute_input": "2025-05-26T16:26:15.241166Z",
          "iopub.status.idle": "2025-05-26T16:26:15.26264Z",
          "shell.execute_reply.started": "2025-05-26T16:26:15.241137Z",
          "shell.execute_reply": "2025-05-26T16:26:15.261719Z"
        },
        "id": "5ec15804"
      },
      "outputs": [],
      "execution_count": null
    },
    {
      "cell_type": "code",
      "source": [
        "print(\"accuracy:\",model.score(x_test,y_test)*100 )"
      ],
      "metadata": {
        "trusted": true,
        "execution": {
          "iopub.status.busy": "2025-05-26T16:26:15.263682Z",
          "iopub.execute_input": "2025-05-26T16:26:15.264007Z",
          "iopub.status.idle": "2025-05-26T16:26:15.284295Z",
          "shell.execute_reply.started": "2025-05-26T16:26:15.263985Z",
          "shell.execute_reply": "2025-05-26T16:26:15.283276Z"
        },
        "id": "d285cd51"
      },
      "outputs": [],
      "execution_count": null
    },
    {
      "cell_type": "code",
      "source": [
        "from sklearn.model_selection import cross_val_score, StratifiedKFold\n",
        "from sklearn.metrics import accuracy_score\n",
        "\n",
        "# Let's say your model is:\n",
        "from sklearn.ensemble import RandomForestClassifier\n",
        "model = RandomForestClassifier(random_state=42)\n",
        "\n",
        "# X = your features, y = your labels\n",
        "# For example:\n",
        "# X = df.drop('species', axis=1)\n",
        "# Y = df['species']\n",
        "\n",
        "# Stratified K-Fold Cross-Validation\n",
        "skf = StratifiedKFold(n_splits=5, shuffle=True, random_state=42)\n",
        "\n",
        "# Calculate accuracy for each fold\n",
        "cv_scores = cross_val_score(model, X, Y, cv=skf, scoring='accuracy')\n",
        "\n",
        "print(\"Cross-Validation Scores for each fold:\", cv_scores)\n",
        "print(\"Average Accuracy:\", np.mean(cv_scores))\n",
        "print(\"Standard Deviation:\", np.std(cv_scores))\n"
      ],
      "metadata": {
        "trusted": true,
        "execution": {
          "iopub.status.busy": "2025-05-26T16:26:15.285206Z",
          "iopub.execute_input": "2025-05-26T16:26:15.28543Z",
          "iopub.status.idle": "2025-05-26T16:26:15.993713Z",
          "shell.execute_reply.started": "2025-05-26T16:26:15.285409Z",
          "shell.execute_reply": "2025-05-26T16:26:15.99271Z"
        },
        "id": "06fa797e"
      },
      "outputs": [],
      "execution_count": null
    }
  ]
}