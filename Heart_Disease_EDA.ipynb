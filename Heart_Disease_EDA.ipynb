{
  "metadata": {
    "kernelspec": {
      "name": "python3",
      "display_name": "Python 3",
      "language": "python"
    },
    "language_info": {
      "name": "python",
      "version": "3.11.11",
      "mimetype": "text/x-python",
      "codemirror_mode": {
        "name": "ipython",
        "version": 3
      },
      "pygments_lexer": "ipython3",
      "nbconvert_exporter": "python",
      "file_extension": ".py"
    },
    "kaggle": {
      "accelerator": "none",
      "dataSources": [
        {
          "sourceId": 477177,
          "sourceType": "datasetVersion",
          "datasetId": 216167
        }
      ],
      "dockerImageVersionId": 31040,
      "isInternetEnabled": true,
      "language": "python",
      "sourceType": "notebook",
      "isGpuEnabled": false
    },
    "colab": {
      "name": "Heart_Disease_EDA",
      "provenance": [],
      "include_colab_link": true
    }
  },
  "nbformat_minor": 0,
  "nbformat": 4,
  "cells": [
    {
      "cell_type": "markdown",
      "metadata": {
        "id": "view-in-github",
        "colab_type": "text"
      },
      "source": [
        "<a href=\"https://colab.research.google.com/github/Dilipd0812/Objective-Learn-how-to-clean-and-prepare-raw-data-for-ML./blob/main/Heart_Disease_EDA.ipynb\" target=\"_parent\"><img src=\"https://colab.research.google.com/assets/colab-badge.svg\" alt=\"Open In Colab\"/></a>"
      ]
    },
    {
      "source": [
        "# IMPORTANT: RUN THIS CELL IN ORDER TO IMPORT YOUR KAGGLE DATA SOURCES,\n",
        "# THEN FEEL FREE TO DELETE THIS CELL.\n",
        "# NOTE: THIS NOTEBOOK ENVIRONMENT DIFFERS FROM KAGGLE'S PYTHON\n",
        "# ENVIRONMENT SO THERE MAY BE MISSING LIBRARIES USED BY YOUR\n",
        "# NOTEBOOK.\n",
        "import kagglehub\n",
        "johnsmith88_heart_disease_dataset_path = kagglehub.dataset_download('johnsmith88/heart-disease-dataset')\n",
        "\n",
        "print('Data source import complete.')\n"
      ],
      "metadata": {
        "id": "Y-I37hGPInh8"
      },
      "cell_type": "code",
      "outputs": [],
      "execution_count": null
    },
    {
      "cell_type": "markdown",
      "source": [
        "<div style=\"background-color: #f0f0f0; color: #333; text-align: center; padding: 15px; border-radius: 12px; font-size: 22px; font-weight: bold; width: 60%; margin: 20px auto; box-shadow: 2px 2px 10px rgba(0,0,0,0.1);\">\n",
        "    📂 Import libraries\n",
        "</div>"
      ],
      "metadata": {
        "id": "4d56b697-ff2e-4438-aadd-b22200034eaf"
      }
    },
    {
      "cell_type": "code",
      "source": [
        "import pandas as pd\n",
        "import numpy as np\n",
        "import matplotlib.pyplot as plt\n",
        "import seaborn as sns\n",
        "from IPython.display import display, HTML\n",
        "import warnings\n",
        "warnings.filterwarnings('ignore')"
      ],
      "metadata": {
        "trusted": true,
        "execution": {
          "iopub.status.busy": "2025-05-16T10:34:36.385333Z",
          "iopub.execute_input": "2025-05-16T10:34:36.385597Z",
          "iopub.status.idle": "2025-05-16T10:34:37.551431Z",
          "shell.execute_reply.started": "2025-05-16T10:34:36.385575Z",
          "shell.execute_reply": "2025-05-16T10:34:37.550665Z"
        },
        "id": "c78773db-602b-4b34-8b06-b826ac913c70"
      },
      "outputs": [],
      "execution_count": null
    },
    {
      "cell_type": "markdown",
      "source": [
        "<div style=\"background-color: #e6f2ff; color: #003366; text-align: center; padding: 15px; border-radius: 10px; font-size: 20px; font-weight: bold; width: 70%; margin: 20px auto; box-shadow: 2px 2px 8px rgba(0,0,0,0.1);\">\n",
        "    🔍 Load the Dataset and Initial Data Exploration\n",
        "</div>"
      ],
      "metadata": {
        "id": "2251753e-e44a-4c44-a0db-c388845e6c22"
      }
    },
    {
      "cell_type": "code",
      "source": [
        "Data = pd.read_csv('/kaggle/input/heart-disease-dataset/heart.csv')\n",
        "df = pd.DataFrame(Data)"
      ],
      "metadata": {
        "trusted": true,
        "execution": {
          "iopub.status.busy": "2025-05-16T10:35:01.822023Z",
          "iopub.execute_input": "2025-05-16T10:35:01.822424Z",
          "iopub.status.idle": "2025-05-16T10:35:01.844194Z",
          "shell.execute_reply.started": "2025-05-16T10:35:01.8224Z",
          "shell.execute_reply": "2025-05-16T10:35:01.843356Z"
        },
        "id": "50c86ae3-6ee9-4897-98a0-acb4b30cf622"
      },
      "outputs": [],
      "execution_count": null
    },
    {
      "cell_type": "code",
      "source": [
        "df.head()"
      ],
      "metadata": {
        "trusted": true,
        "execution": {
          "iopub.status.busy": "2025-05-16T10:35:05.867193Z",
          "iopub.execute_input": "2025-05-16T10:35:05.867522Z",
          "iopub.status.idle": "2025-05-16T10:35:05.894942Z",
          "shell.execute_reply.started": "2025-05-16T10:35:05.867497Z",
          "shell.execute_reply": "2025-05-16T10:35:05.894143Z"
        },
        "id": "bc681575-19ac-4f8b-a60b-6b90bedf7117"
      },
      "outputs": [],
      "execution_count": null
    },
    {
      "cell_type": "code",
      "source": [
        "df.tail()"
      ],
      "metadata": {
        "trusted": true,
        "execution": {
          "iopub.status.busy": "2025-05-16T10:35:19.136166Z",
          "iopub.execute_input": "2025-05-16T10:35:19.136451Z",
          "iopub.status.idle": "2025-05-16T10:35:19.147521Z",
          "shell.execute_reply.started": "2025-05-16T10:35:19.136427Z",
          "shell.execute_reply": "2025-05-16T10:35:19.146887Z"
        },
        "id": "a6cbd3bf-8642-4f91-b2e9-7c66b3819fc9"
      },
      "outputs": [],
      "execution_count": null
    },
    {
      "cell_type": "markdown",
      "source": [
        "<div style=\"background-color: #e0f7fa; color: #006064; text-align: center; padding: 10px; border-radius: 10px; font-size: 18px; font-weight: bold; width: 60%; margin: 10px auto; box-shadow: 1px 1px 5px rgba(0,0,0,0.1);\">\n",
        "    🧾 Get Some Information About Dataset\n",
        "</div>"
      ],
      "metadata": {
        "id": "3e9193b2-4357-405d-b37d-4dade246a2d3"
      }
    },
    {
      "cell_type": "code",
      "source": [
        "rows, columns = df.shape\n",
        "print(f\"📊 Dataset Dimensions:\\n------------------------\\n🧾 Rows:    {rows}\\n📁 Columns: {columns}\")\n",
        "print(f\" ✅ The dataset consists of {rows} patients with {columns} features.\")"
      ],
      "metadata": {
        "trusted": true,
        "execution": {
          "iopub.status.busy": "2025-05-16T10:35:27.656196Z",
          "iopub.execute_input": "2025-05-16T10:35:27.656725Z",
          "iopub.status.idle": "2025-05-16T10:35:27.661656Z",
          "shell.execute_reply.started": "2025-05-16T10:35:27.6567Z",
          "shell.execute_reply": "2025-05-16T10:35:27.660801Z"
        },
        "id": "16b52804-8122-4882-b93e-9c8503792a0a"
      },
      "outputs": [],
      "execution_count": null
    },
    {
      "cell_type": "markdown",
      "source": [
        "<div style=\"background-color: #e0f7fa; color: #006064; text-align: center; padding: 10px; border-radius: 10px; font-size: 18px; font-weight: bold; width: 60%; margin: 10px auto; box-shadow: 1px 1px 5px rgba(0,0,0,0.1);\">\n",
        "    ✅ Check the data type\n",
        "</div>"
      ],
      "metadata": {
        "id": "7f6db16a-d66b-47f4-99f5-b0534f35dd0a"
      }
    },
    {
      "cell_type": "code",
      "source": [
        "# Finding the data type of each column\n",
        "df.info()"
      ],
      "metadata": {
        "trusted": true,
        "execution": {
          "iopub.status.busy": "2025-05-16T10:35:40.00943Z",
          "iopub.execute_input": "2025-05-16T10:35:40.009681Z",
          "iopub.status.idle": "2025-05-16T10:35:40.031062Z",
          "shell.execute_reply.started": "2025-05-16T10:35:40.009664Z",
          "shell.execute_reply": "2025-05-16T10:35:40.030184Z"
        },
        "id": "49941212-75a4-4951-bf3c-80d817228b93"
      },
      "outputs": [],
      "execution_count": null
    },
    {
      "cell_type": "markdown",
      "source": [
        "<div style=\"background-color: #e0f7fa; color: #006064; text-align: center; padding: 10px; border-radius: 10px; font-size: 18px; font-weight: bold; width: 50%; margin: 20px auto; box-shadow: 1px 1px 5px rgba(0,0,0,0.0);\">\n",
        "    ✅ Statistics summary\n",
        "</div>"
      ],
      "metadata": {
        "id": "3bbe36e7-307c-42ec-b3df-fed31fad2d2b"
      }
    },
    {
      "cell_type": "code",
      "source": [
        "df.describe(include='all')"
      ],
      "metadata": {
        "trusted": true,
        "execution": {
          "iopub.status.busy": "2025-05-16T10:35:47.479936Z",
          "iopub.execute_input": "2025-05-16T10:35:47.480543Z",
          "iopub.status.idle": "2025-05-16T10:35:47.522368Z",
          "shell.execute_reply.started": "2025-05-16T10:35:47.480514Z",
          "shell.execute_reply": "2025-05-16T10:35:47.52159Z"
        },
        "id": "cefab922-8e10-41e3-ac85-53f73447360c"
      },
      "outputs": [],
      "execution_count": null
    },
    {
      "cell_type": "code",
      "source": [
        "# Number of Values for Every Feature\n",
        "print(\"🔢 Number of Unique Values for Each Feature:\\n\")\n",
        "print(df.nunique())"
      ],
      "metadata": {
        "trusted": true,
        "execution": {
          "iopub.status.busy": "2025-05-16T10:35:50.523698Z",
          "iopub.execute_input": "2025-05-16T10:35:50.524416Z",
          "iopub.status.idle": "2025-05-16T10:35:50.531945Z",
          "shell.execute_reply.started": "2025-05-16T10:35:50.524388Z",
          "shell.execute_reply": "2025-05-16T10:35:50.531112Z"
        },
        "id": "d4507834-b1cb-4b5f-b263-5fb2276b95e1"
      },
      "outputs": [],
      "execution_count": null
    },
    {
      "cell_type": "code",
      "source": [
        "# Print value counts for each column\n",
        "for col in df.columns:\n",
        "    print('---🔢',df[col].value_counts())\n",
        "    print('-'*40)"
      ],
      "metadata": {
        "trusted": true,
        "execution": {
          "iopub.status.busy": "2025-05-16T10:35:56.931018Z",
          "iopub.execute_input": "2025-05-16T10:35:56.93138Z",
          "iopub.status.idle": "2025-05-16T10:35:56.952399Z",
          "shell.execute_reply.started": "2025-05-16T10:35:56.931353Z",
          "shell.execute_reply": "2025-05-16T10:35:56.951333Z"
        },
        "id": "2a07c59c-7661-4d29-913e-40c9a3d667a5"
      },
      "outputs": [],
      "execution_count": null
    },
    {
      "cell_type": "markdown",
      "source": [
        "<div style=\"background-color: #f0f0f0; color: #333; text-align: center; padding: 15px; border-radius: 12px; font-size: 22px; font-weight: bold; width: 60%; margin: 20px auto; box-shadow: 2px 2px 10px rgba(0,0,0,0.1);\">\n",
        "    🔍 Checking Missing (NaN) Values in Each Column\n",
        "</div>"
      ],
      "metadata": {
        "id": "5e0df840-e825-4c6b-b776-5dbebce89e52"
      }
    },
    {
      "cell_type": "code",
      "source": [
        "df.isna().sum()"
      ],
      "metadata": {
        "trusted": true,
        "execution": {
          "iopub.status.busy": "2025-05-16T10:36:09.904944Z",
          "iopub.execute_input": "2025-05-16T10:36:09.905757Z",
          "iopub.status.idle": "2025-05-16T10:36:09.913141Z",
          "shell.execute_reply.started": "2025-05-16T10:36:09.905726Z",
          "shell.execute_reply": "2025-05-16T10:36:09.91223Z"
        },
        "id": "e1ba13f1-3312-4999-9816-c13acbb1b5d3"
      },
      "outputs": [],
      "execution_count": null
    },
    {
      "cell_type": "code",
      "source": [
        "rows_with_missing = df[df.isna().any(axis=1)]\n",
        "\n",
        "from IPython.display import display\n",
        "display(rows_with_missing)"
      ],
      "metadata": {
        "trusted": true,
        "execution": {
          "iopub.status.busy": "2025-05-16T10:36:15.968402Z",
          "iopub.execute_input": "2025-05-16T10:36:15.968694Z",
          "iopub.status.idle": "2025-05-16T10:36:15.979569Z",
          "shell.execute_reply.started": "2025-05-16T10:36:15.968671Z",
          "shell.execute_reply": "2025-05-16T10:36:15.978873Z"
        },
        "id": "8862ac3a-d973-4665-8e6b-f8ccfd60275a"
      },
      "outputs": [],
      "execution_count": null
    },
    {
      "cell_type": "markdown",
      "source": [
        "<div style=\"background-color: #f0f0f0; color: #333; text-align: left; padding: 10px; border-radius: 12px; font-size: 22px; font-weight: bold; width: 60%; margin: 5px auto; box-shadow: 2px 2px 10px rgba(0,0,0,0.1);\">\n",
        "    <span style=\"font-size: 20px;\">✨</span> There are no missing values in the dataset.\n",
        "</div>"
      ],
      "metadata": {
        "id": "f4ad0a5c-5d30-4f72-af1e-0c83f12a2d4f"
      }
    },
    {
      "cell_type": "markdown",
      "source": [
        "<div style=\"text-align: left; font-size: 22px; font-weight: bold; padding: 10px; color: #333; background-color: #f0f0f0;\">\n",
        "    <h6>✔️Transform data into Categorical and Continous features :</h6>\n",
        "</div>"
      ],
      "metadata": {
        "id": "cf462d33-9c8d-4050-923a-31caa5b2ec97"
      }
    },
    {
      "cell_type": "markdown",
      "source": [
        "### - Change the labels and columns' name for better visualisation and interpretation"
      ],
      "metadata": {
        "id": "6284c11e-a597-461b-9f82-4fcab88c3e17"
      }
    },
    {
      "cell_type": "code",
      "source": [
        "df['sex'] = df['sex'].replace({0:'male',1:'female'})\n",
        "df['cp'] = df['cp'].replace({0:'Typical angina',1:'Atypical angina',2:'Non-anginal pain',3:'Asymptomatic'})\n",
        "df['fbs'] = df['fbs'].replace({0:'False',1:'True'})\n",
        "df['slope'] = df['slope'].replace({0:'Upsloping',1:'Flat',2:'Downsloping'})\n",
        "df['thal'] = df['thal'].replace({0:'Normal',1:'Fixeddefect',2:'Reversible defect',3:'Not described'})\n",
        "df['exang'] = df['exang'].astype(str).replace({'0': 'No', '1': 'Yes'})\n",
        "df['restecg'] = df['restecg'].astype(str).replace({'0': 'Normal', '1': 'ST_T_Wave_Abnormality','2':'probable_or_Definite_LVH'})"
      ],
      "metadata": {
        "trusted": true,
        "execution": {
          "iopub.status.busy": "2025-05-16T10:36:26.370442Z",
          "iopub.execute_input": "2025-05-16T10:36:26.370701Z",
          "iopub.status.idle": "2025-05-16T10:36:26.386695Z",
          "shell.execute_reply.started": "2025-05-16T10:36:26.370683Z",
          "shell.execute_reply": "2025-05-16T10:36:26.386099Z"
        },
        "id": "ff776c15-b191-4d24-81dc-3b8f3416b0f4"
      },
      "outputs": [],
      "execution_count": null
    },
    {
      "cell_type": "code",
      "source": [
        "df.rename(columns={'cp':'chest_pain_type',\n",
        "                    'trestbps':'resting_bp',\n",
        "                    'chol':'cholesterol',\n",
        "                    'fbs':'fasting_blood_sugar',\n",
        "                    'restecg':'rest_ecg_result',\n",
        "                    'thalach':'max_heart_rate',\n",
        "                    'exang':'exercise_induced_angina',\n",
        "                    'oldpeak':'st_depression',\n",
        "                    'slope':'st_slop',\n",
        "                    'ca':'num_major_vessels',\n",
        "                    'thal':'thalium_result',\n",
        "                    'target':'heart_disease'},inplace=True)"
      ],
      "metadata": {
        "trusted": true,
        "execution": {
          "iopub.status.busy": "2025-05-16T10:36:33.393491Z",
          "iopub.execute_input": "2025-05-16T10:36:33.393755Z",
          "iopub.status.idle": "2025-05-16T10:36:33.398934Z",
          "shell.execute_reply.started": "2025-05-16T10:36:33.393736Z",
          "shell.execute_reply": "2025-05-16T10:36:33.398087Z"
        },
        "id": "09ee857b-3045-4231-b2dc-3aa60623df45"
      },
      "outputs": [],
      "execution_count": null
    },
    {
      "cell_type": "markdown",
      "source": [
        "<div style=\"text-align: left; font-size: 18px; font-weight: bold; padding: 10px 20px; color: #3e4a5b; background-color: #e1f5fe; border-radius: 10px; box-shadow: 0 2px 5px rgba(0, 0, 0, 0.1); width: fit-content; margin: 15px auto;\">\n",
        "    <h3 style=\"margin: 0;\">Dataset Features Breakdown</h3>\n",
        "</div>\n",
        "\n",
        "<div style=\"text-align: left; font-size: 16px; font-weight: 500; padding: 10px; background-color: #fff9c4; border-radius: 8px; margin: 10px 0; box-shadow: 0 2px 5px rgba(0,0,0,0.1);\">\n",
        "    <h4 style=\"color: #388e3c; margin: 0;\">🟢 Categorical Features:</h4>\n",
        "    <ul style=\"font-size: 14px; color: #333;\">\n",
        "        <li>Sex</li>\n",
        "        <li>ChestPain type(cp)</li>\n",
        "        <li>FastingBS level (fbs)</li>\n",
        "        <li>RestingECG result (restecg)</li>\n",
        "        <li>Exercise_induced_Angina (exang)</li>\n",
        "        <li>ST_Slope (slope)</li>\n",
        "        <li>num_major_vessels (ca)</li>\n",
        "        <li>Thalium result(thal)</li>\n",
        "        <li>HeartDisease (target)</li>\n",
        "    </ul>\n",
        "</div>\n",
        "\n",
        "<div style=\"text-align: left; font-size: 16px; font-weight: 500; padding: 10px; background-color: #e8f5e9; border-radius: 8px; margin: 10px 0; box-shadow: 0 2px 5px rgba(0,0,0,0.1);\">\n",
        "    <h4 style=\"color: #388e3c; margin: 0;\">🟢 Continous Features:</h4>\n",
        "    <ul style=\"font-size: 14px; color: #333;\">\n",
        "        <li>Age</li>\n",
        "        <li>RestingBP (trestbps)</li>\n",
        "        <li>Cholesterol (chol)</li>\n",
        "        <li>st_depression(Oldpeak)</li>\n",
        "        <li>Maximum heart rate achieved during a stress test (thalach)</li>\n",
        "        "
      ],
      "metadata": {
        "id": "a72fb299-d19b-4087-8a19-de2454f76e9e"
      }
    },
    {
      "cell_type": "code",
      "source": [
        "df.columns"
      ],
      "metadata": {
        "trusted": true,
        "execution": {
          "iopub.status.busy": "2025-05-16T10:36:41.988715Z",
          "iopub.execute_input": "2025-05-16T10:36:41.98935Z",
          "iopub.status.idle": "2025-05-16T10:36:41.994614Z",
          "shell.execute_reply.started": "2025-05-16T10:36:41.989324Z",
          "shell.execute_reply": "2025-05-16T10:36:41.993841Z"
        },
        "id": "e98a4d3e-bda7-4e4c-8320-981fddce000f"
      },
      "outputs": [],
      "execution_count": null
    },
    {
      "cell_type": "code",
      "source": [
        "col_categorical=['sex', 'chest_pain_type','fasting_blood_sugar', 'rest_ecg_result','exercise_induced_angina','st_slop','num_major_vessels', 'thalium_result', 'heart_disease']\n",
        "df_categorical = df[col_categorical].copy()"
      ],
      "metadata": {
        "trusted": true,
        "execution": {
          "iopub.status.busy": "2025-05-16T10:36:45.389405Z",
          "iopub.execute_input": "2025-05-16T10:36:45.389984Z",
          "iopub.status.idle": "2025-05-16T10:36:45.397658Z",
          "shell.execute_reply.started": "2025-05-16T10:36:45.389959Z",
          "shell.execute_reply": "2025-05-16T10:36:45.396894Z"
        },
        "id": "e2eafb73-9237-4981-a71b-54b14b8a4515"
      },
      "outputs": [],
      "execution_count": null
    },
    {
      "cell_type": "code",
      "source": [
        "col_continuous = ['age','resting_bp','cholesterol','st_depression','max_heart_rate']\n",
        "df_continuous = df[col_continuous].copy()"
      ],
      "metadata": {
        "trusted": true,
        "execution": {
          "iopub.status.busy": "2025-05-16T10:36:50.99023Z",
          "iopub.execute_input": "2025-05-16T10:36:50.990988Z",
          "iopub.status.idle": "2025-05-16T10:36:50.996133Z",
          "shell.execute_reply.started": "2025-05-16T10:36:50.990958Z",
          "shell.execute_reply": "2025-05-16T10:36:50.995371Z"
        },
        "id": "c58e182c-b9d0-4de0-b263-1f672ad892d7"
      },
      "outputs": [],
      "execution_count": null
    },
    {
      "cell_type": "markdown",
      "source": [
        "<div style=\"text-align: left; font-size: 22px; font-weight: bold; padding: 10px; color: #333; background-color: #fff9c4;\">\n",
        "    <h6>✔️Now Check dataset for Noise and Outlier:</h6>\n",
        "</div>"
      ],
      "metadata": {
        "id": "bc08174e-9dec-4fd1-ab9c-6ebc765e7027"
      }
    },
    {
      "cell_type": "code",
      "source": [
        "colors = ['#4db6ac', '#64b5f6', '#ba68c8', '#f06292', '#ffd54f']\n",
        "\n",
        "# Columns to plot (excluding 'thalach')\n",
        "cols = col_continuous[:-1]  # Make sure 'thalach' is the last in col_continous\n",
        "\n",
        "fig, axes = plt.subplots(ncols=len(cols), figsize=(16, 5), dpi=120)\n",
        "\n",
        "for i, col in enumerate(cols):\n",
        "    ax = axes[i]\n",
        "    ax.scatter(df_continuous[col], df_continuous['max_heart_rate'],color=colors[i % len(colors)], alpha=0.7, edgecolors='k', s=40)\n",
        "    ax.set_title(f\"{col} vs max heart rate\", fontsize=15, color=colors[i % len(colors)])\n",
        "    ax.set_xlabel(col, fontsize=9)\n",
        "    if i == 0:\n",
        "        ax.set_ylabel('Max Heart Rate', fontsize=9)\n",
        "    ax.grid(True, linestyle='--', linewidth=0.5, alpha=0.6)\n",
        "\n",
        "plt.tight_layout()\n",
        "plt.show()"
      ],
      "metadata": {
        "trusted": true,
        "execution": {
          "iopub.status.busy": "2025-05-16T10:36:56.777383Z",
          "iopub.execute_input": "2025-05-16T10:36:56.777986Z",
          "iopub.status.idle": "2025-05-16T10:36:57.725464Z",
          "shell.execute_reply.started": "2025-05-16T10:36:56.77796Z",
          "shell.execute_reply": "2025-05-16T10:36:57.724668Z"
        },
        "id": "d1047611-0970-4140-83a9-b6bcdbf2f73a"
      },
      "outputs": [],
      "execution_count": null
    },
    {
      "cell_type": "code",
      "source": [
        "print('4 lowest max_heart_rate:\\n',df['max_heart_rate'].nsmallest(4))\n",
        "print('------------------\\n 4 lowest age:\\n',df['age'].nsmallest(4))\n",
        "print('------------------\\n 4 Highest Cholestrol:\\n',df['cholesterol'].nlargest(4))\n",
        "print('------------------\\n 4 Highest st_depression:\\n',df['st_depression'].nlargest(4))\n",
        "print('------------------\\n 4 Highest resting_bp:\\n',df['resting_bp'].nlargest(4))"
      ],
      "metadata": {
        "trusted": true,
        "execution": {
          "iopub.status.busy": "2025-05-16T10:37:03.543501Z",
          "iopub.execute_input": "2025-05-16T10:37:03.543785Z",
          "iopub.status.idle": "2025-05-16T10:37:03.556525Z",
          "shell.execute_reply.started": "2025-05-16T10:37:03.543763Z",
          "shell.execute_reply": "2025-05-16T10:37:03.555861Z"
        },
        "id": "20de40ae-d24f-4d4c-90ac-151099b41175"
      },
      "outputs": [],
      "execution_count": null
    },
    {
      "cell_type": "markdown",
      "source": [
        "### After identifying Outlier in the data, we can remove or handle it appropriately to improve analysis or model performance."
      ],
      "metadata": {
        "id": "56493657-06c6-42af-b2cc-ab012534790f"
      }
    },
    {
      "cell_type": "code",
      "source": [
        "df0 = df[df['max_heart_rate']>71]"
      ],
      "metadata": {
        "trusted": true,
        "execution": {
          "iopub.status.busy": "2025-05-16T10:37:08.812404Z",
          "iopub.execute_input": "2025-05-16T10:37:08.813064Z",
          "iopub.status.idle": "2025-05-16T10:37:08.818976Z",
          "shell.execute_reply.started": "2025-05-16T10:37:08.813034Z",
          "shell.execute_reply": "2025-05-16T10:37:08.818203Z"
        },
        "id": "6b4c7f8b-1b62-41bb-853f-d9ee861a0eaa"
      },
      "outputs": [],
      "execution_count": null
    },
    {
      "cell_type": "code",
      "source": [
        "df1= df0[df0['cholesterol']<564]"
      ],
      "metadata": {
        "trusted": true,
        "execution": {
          "iopub.status.busy": "2025-05-16T10:37:11.174408Z",
          "iopub.execute_input": "2025-05-16T10:37:11.174665Z",
          "iopub.status.idle": "2025-05-16T10:37:11.180405Z",
          "shell.execute_reply.started": "2025-05-16T10:37:11.174648Z",
          "shell.execute_reply": "2025-05-16T10:37:11.179728Z"
        },
        "id": "56afcc9a-91d2-48ec-bd74-9115b1c1c87a"
      },
      "outputs": [],
      "execution_count": null
    },
    {
      "cell_type": "code",
      "source": [
        "df2=df1[df1['st_depression']<5.6]"
      ],
      "metadata": {
        "trusted": true,
        "execution": {
          "iopub.status.busy": "2025-05-16T10:37:16.513479Z",
          "iopub.execute_input": "2025-05-16T10:37:16.514133Z",
          "iopub.status.idle": "2025-05-16T10:37:16.5198Z",
          "shell.execute_reply.started": "2025-05-16T10:37:16.514107Z",
          "shell.execute_reply": "2025-05-16T10:37:16.519014Z"
        },
        "id": "91ba5cb4-c24c-470c-b585-d093e1035108"
      },
      "outputs": [],
      "execution_count": null
    },
    {
      "cell_type": "code",
      "source": [
        "df3=df2[df2['resting_bp']<192]"
      ],
      "metadata": {
        "trusted": true,
        "execution": {
          "iopub.status.busy": "2025-05-16T10:37:21.758423Z",
          "iopub.execute_input": "2025-05-16T10:37:21.758694Z",
          "iopub.status.idle": "2025-05-16T10:37:21.764617Z",
          "shell.execute_reply.started": "2025-05-16T10:37:21.758675Z",
          "shell.execute_reply": "2025-05-16T10:37:21.763874Z"
        },
        "id": "ccaa8cc9-8fe4-4fe9-a163-b1aa383e1e6f"
      },
      "outputs": [],
      "execution_count": null
    },
    {
      "cell_type": "code",
      "source": [
        "df_categorical = df3[col_categorical].copy()"
      ],
      "metadata": {
        "trusted": true,
        "execution": {
          "iopub.status.busy": "2025-05-16T10:37:24.038445Z",
          "iopub.execute_input": "2025-05-16T10:37:24.038722Z",
          "iopub.status.idle": "2025-05-16T10:37:24.045306Z",
          "shell.execute_reply.started": "2025-05-16T10:37:24.0387Z",
          "shell.execute_reply": "2025-05-16T10:37:24.044565Z"
        },
        "id": "d302306e-c5a7-4429-acbb-e302a334d146"
      },
      "outputs": [],
      "execution_count": null
    },
    {
      "cell_type": "code",
      "source": [
        "df_continuous = df3[col_continuous].copy()"
      ],
      "metadata": {
        "trusted": true,
        "execution": {
          "iopub.status.busy": "2025-05-16T10:40:02.424499Z",
          "iopub.execute_input": "2025-05-16T10:40:02.424994Z",
          "iopub.status.idle": "2025-05-16T10:40:02.429854Z",
          "shell.execute_reply.started": "2025-05-16T10:40:02.424969Z",
          "shell.execute_reply": "2025-05-16T10:40:02.428908Z"
        },
        "id": "4a4fbbe8-9a44-4c87-9eab-fe325eaf0ae3"
      },
      "outputs": [],
      "execution_count": null
    },
    {
      "cell_type": "code",
      "source": [
        "fig, axes = plt.subplots(ncols=len(cols), figsize=(16, 5), dpi=120)\n",
        "\n",
        "for i, col in enumerate(cols):\n",
        "    ax = axes[i]\n",
        "    ax.scatter(df_continuous[col], df_continuous['max_heart_rate'],color=colors[i % len(colors)], alpha=0.7, edgecolors='k', s=40)\n",
        "    ax.set_title(f\"{col} vs max heart rate\", fontsize=15, color=colors[i % len(colors)])\n",
        "    ax.set_xlabel(col, fontsize=9)\n",
        "    if i == 0:\n",
        "        ax.set_ylabel('Max Heart Rate', fontsize=9)\n",
        "    ax.grid(True, linestyle='--', linewidth=0.5, alpha=0.6)\n",
        "\n",
        "plt.tight_layout()\n",
        "plt.show()"
      ],
      "metadata": {
        "trusted": true,
        "execution": {
          "iopub.status.busy": "2025-05-16T10:37:28.665052Z",
          "iopub.execute_input": "2025-05-16T10:37:28.665915Z",
          "iopub.status.idle": "2025-05-16T10:37:29.444095Z",
          "shell.execute_reply.started": "2025-05-16T10:37:28.665843Z",
          "shell.execute_reply": "2025-05-16T10:37:29.443326Z"
        },
        "id": "78b58f3e-a698-4e93-9ce6-008734ac4d64"
      },
      "outputs": [],
      "execution_count": null
    },
    {
      "cell_type": "markdown",
      "source": [
        "<div style=\"text-align: left; font-size: 22px; font-weight: bold; padding: 10px; color: #333; background-color: #fff9c4;\">\n",
        "    <h4>🧹Check for Duplicate rows:</h4>\n",
        "</div>"
      ],
      "metadata": {
        "id": "a22676f7-e92e-4eb2-9316-1d31bfdcf8c9"
      }
    },
    {
      "cell_type": "code",
      "source": [
        "#count duplicate\n",
        "df3.duplicated().sum()"
      ],
      "metadata": {
        "trusted": true,
        "execution": {
          "iopub.status.busy": "2025-05-16T10:37:37.429678Z",
          "iopub.execute_input": "2025-05-16T10:37:37.430517Z",
          "iopub.status.idle": "2025-05-16T10:37:37.439608Z",
          "shell.execute_reply.started": "2025-05-16T10:37:37.430489Z",
          "shell.execute_reply": "2025-05-16T10:37:37.438885Z"
        },
        "id": "f46af7cd-5677-41b1-8e6f-4d49a3ee3476"
      },
      "outputs": [],
      "execution_count": null
    },
    {
      "cell_type": "code",
      "source": [
        "df3 = df3.copy()\n",
        "df3.drop_duplicates(inplace=True)\n",
        "Rows,Columns = df3.shape\n",
        "print('Rows:',Rows,'\\nColumns:',Columns)\n",
        "print(f\" ✅ Now,the dataset consists of {Rows} patients with {Columns} features.\")"
      ],
      "metadata": {
        "trusted": true,
        "execution": {
          "iopub.status.busy": "2025-05-16T10:37:40.126044Z",
          "iopub.execute_input": "2025-05-16T10:37:40.126544Z",
          "iopub.status.idle": "2025-05-16T10:37:40.135318Z",
          "shell.execute_reply.started": "2025-05-16T10:37:40.126517Z",
          "shell.execute_reply": "2025-05-16T10:37:40.13452Z"
        },
        "id": "8a158b67-4356-4d01-8474-ca37a5e5bfaf"
      },
      "outputs": [],
      "execution_count": null
    },
    {
      "cell_type": "markdown",
      "source": [
        "<div style=\"text-align: left; font-size: 24px; font-weight: 600; padding: 15px 25px; color: #3e4a5b; background-color: #fff9c4; border-radius: 50px; box-shadow: 0 4px 8px rgba(0, 0, 0, 0.1); width: fit-content; margin: 20px auto;\">\n",
        "    <h4 style=\"margin: 0;\">✨Dataset is Clean and Reliable for Analysis✨</h4>\n",
        "</div>"
      ],
      "metadata": {
        "id": "3e44e3be-4183-4fa5-8b56-1b3adab1ffaf"
      }
    },
    {
      "cell_type": "code",
      "source": [
        "# Print value counts for each categorical column\n",
        "for col in col_categorical:\n",
        "    print('🔢',df3[col].value_counts())\n",
        "    print('-'*40)"
      ],
      "metadata": {
        "trusted": true,
        "execution": {
          "iopub.status.busy": "2025-05-16T10:37:55.159041Z",
          "iopub.execute_input": "2025-05-16T10:37:55.159886Z",
          "iopub.status.idle": "2025-05-16T10:37:55.171012Z",
          "shell.execute_reply.started": "2025-05-16T10:37:55.159852Z",
          "shell.execute_reply": "2025-05-16T10:37:55.170098Z"
        },
        "id": "692172b9-3b08-42ac-a44d-1ea3f251951a"
      },
      "outputs": [],
      "execution_count": null
    },
    {
      "cell_type": "markdown",
      "source": [
        "### ✨The proportion of females doing the test is higher than that of males✨"
      ],
      "metadata": {
        "id": "4426f417-0c14-49e6-a0a2-cfb388155347"
      }
    },
    {
      "cell_type": "markdown",
      "source": [
        "<div style=\"background-color: #f0f0f0; color: #333; text-align: left; padding: 10px; border-radius: 12px; font-size: 22px; font-weight: bold; width: 60%; margin: 5px auto; box-shadow: 2px 2px 10px rgba(0,0,0,0.1);\">\n",
        "    <span style=\"font-size: 20px;\">✨</span>Analyse Categorical features✨\n",
        "</div>"
      ],
      "metadata": {
        "id": "95370fd6-fc33-4147-83af-4bd0e78f4e69"
      }
    },
    {
      "cell_type": "code",
      "source": [
        "df_categorical.describe(include=['object','category'])"
      ],
      "metadata": {
        "trusted": true,
        "execution": {
          "iopub.status.busy": "2025-05-16T10:38:09.033058Z",
          "iopub.execute_input": "2025-05-16T10:38:09.033355Z",
          "iopub.status.idle": "2025-05-16T10:38:09.052524Z",
          "shell.execute_reply.started": "2025-05-16T10:38:09.033334Z",
          "shell.execute_reply": "2025-05-16T10:38:09.051738Z"
        },
        "id": "795c2c58-aea2-41e4-a760-6c240be22745"
      },
      "outputs": [],
      "execution_count": null
    },
    {
      "cell_type": "code",
      "source": [
        "# Custom pastel and husl palettes\n",
        "bar_palette = sns.color_palette(\"pastel\")\n",
        "pie_palette = sns.color_palette(\"husl\", n_colors=10)\n",
        "\n",
        "for i in col_categorical:\n",
        "    # Create figure\n",
        "    fig, axes = plt.subplots(1, 2, figsize=(20, 6), dpi=130)\n",
        "    fig.suptitle(i, fontsize=16, fontweight='bold', color='#333')\n",
        "\n",
        "    # Bar Chart\n",
        "    sns.countplot(data=df3, x=i, ax=axes[0], palette=bar_palette,width=0.4)\n",
        "    for bar in axes[0].containers:\n",
        "        axes[0].bar_label(bar, fontsize=10)\n",
        "\n",
        "    axes[0].set_title('Bar Chart', fontsize=13, fontweight='semibold')\n",
        "    axes[0].set_xlabel(i, fontsize=11)\n",
        "    axes[0].set_ylabel('Count', fontsize=11)\n",
        "    axes[0].tick_params(axis='x', rotation=45)\n",
        "\n",
        "    # Pie Chart\n",
        "    df3[i].value_counts().plot.pie(autopct='%1.1f%%',startangle=90,ax=axes[1], colors=pie_palette, textprops={'fontsize': 10})\n",
        "    axes[1].set_ylabel('')\n",
        "    axes[1].set_title('Pie Chart', fontsize=13, fontweight='semibold')\n",
        "\n",
        "    # Layout styling\n",
        "    plt.tight_layout(pad=3)\n",
        "    plt.subplots_adjust(top=0.85)\n",
        "    plt.show()"
      ],
      "metadata": {
        "trusted": true,
        "execution": {
          "iopub.status.busy": "2025-05-16T10:38:13.874914Z",
          "iopub.execute_input": "2025-05-16T10:38:13.875229Z",
          "iopub.status.idle": "2025-05-16T10:38:16.933973Z",
          "shell.execute_reply.started": "2025-05-16T10:38:13.875205Z",
          "shell.execute_reply": "2025-05-16T10:38:16.933087Z"
        },
        "id": "6dba6e76-16a4-42ce-9a63-8562a5f44a20"
      },
      "outputs": [],
      "execution_count": null
    },
    {
      "cell_type": "code",
      "source": [
        "# Separate data for patient with and without heart disease\n",
        "disease = df3[df3['heart_disease']==1]\n",
        "no_disease = df3[df3['heart_disease']==0]"
      ],
      "metadata": {
        "trusted": true,
        "execution": {
          "iopub.status.busy": "2025-05-16T10:38:28.672286Z",
          "iopub.execute_input": "2025-05-16T10:38:28.673189Z",
          "iopub.status.idle": "2025-05-16T10:38:28.678365Z",
          "shell.execute_reply.started": "2025-05-16T10:38:28.673153Z",
          "shell.execute_reply": "2025-05-16T10:38:28.677592Z"
        },
        "id": "e805203e-adff-41e1-9d94-028e4cdc4cac"
      },
      "outputs": [],
      "execution_count": null
    },
    {
      "cell_type": "code",
      "source": [
        "for i in col_categorical[:-1]:\n",
        "\n",
        "    fig, ax = plt.subplots(1, 4, figsize=(20, 6), dpi=130)\n",
        "    fig.suptitle(f\" Distribution of '{i.upper()}' in Heart Disease vs No Disease\", fontsize=20, fontweight='bold', color='#2c3e50', y=1.12)\n",
        "\n",
        "    # Bar plot for patients with heart disease\n",
        "    disease_counts = disease[i].value_counts()\n",
        "    disease_counts.plot(kind='bar', color=sns.color_palette(\"tab10\"), ax=ax[0], edgecolor='black')\n",
        "\n",
        "    # Add value labels\n",
        "    for idx, val in enumerate(disease_counts):\n",
        "        ax[0].text(idx, val + 0.5, str(val), ha='center', fontsize=12, fontweight='bold')\n",
        "\n",
        "    # Pie chart\n",
        "    disease_counts.plot(kind='pie', autopct='%.1f%%', ax=ax[1], startangle=90, textprops={'fontsize': 12, 'weight': 'bold'})\n",
        "    ax[1].set_ylabel('')\n",
        "\n",
        "    # Customize axis\n",
        "    ax[0].set_xlabel(i, fontsize=13, fontweight='bold')\n",
        "    ax[0].set_ylabel('Count', fontsize=13, fontweight='bold')\n",
        "    ax[0].tick_params(axis='x', labelrotation=45, labelsize=11)\n",
        "    ax[0].tick_params(axis='y', labelsize=11)\n",
        "\n",
        "    # Bar plot for patients without heart disease\n",
        "    no_disease_counts = no_disease[i].value_counts()\n",
        "    no_disease_counts.plot(kind='bar', color=sns.color_palette(\"tab10\"), ax=ax[2], edgecolor='black')\n",
        "\n",
        "    # Add value labels\n",
        "    for idx, val in enumerate(no_disease_counts):\n",
        "        ax[2].text(idx, val + 0.5, str(val), ha='center', fontsize=12, fontweight='bold')\n",
        "\n",
        "    # Pie chart\n",
        "    no_disease_counts.plot(kind='pie', autopct=\"%.1f%%\", ax=ax[3], startangle=90, textprops={'fontsize': 12, 'weight': 'bold'})\n",
        "    ax[3].set_ylabel('')\n",
        "\n",
        "    # Customize axis\n",
        "    ax[2].set_xlabel(i, fontsize=13, fontweight='bold')\n",
        "    ax[2].set_ylabel('Count', fontsize=13, fontweight='bold')\n",
        "    ax[2].tick_params(axis='x', labelrotation=45, labelsize=11)\n",
        "    ax[2].tick_params(axis='y', labelsize=11)\n",
        "\n",
        "    # Add section titles\n",
        "    fig.text(0.23, 0.97, f\"Patients with Heart Disease by {i}\", ha='center', fontsize=15, fontweight='bold', color='crimson')\n",
        "    fig.text(0.73, 0.97, f\"Patients without Heart Disease by {i}\", ha='center', fontsize=15, fontweight='bold', color='crimson')\n",
        "\n",
        "    plt.tight_layout()\n",
        "    plt.show()"
      ],
      "metadata": {
        "trusted": true,
        "execution": {
          "iopub.status.busy": "2025-05-16T10:38:31.091672Z",
          "iopub.execute_input": "2025-05-16T10:38:31.091996Z",
          "iopub.status.idle": "2025-05-16T10:38:35.476711Z",
          "shell.execute_reply.started": "2025-05-16T10:38:31.091974Z",
          "shell.execute_reply": "2025-05-16T10:38:35.475852Z"
        },
        "id": "fc237e52-90e3-4c4f-ad69-747a6cf376c4"
      },
      "outputs": [],
      "execution_count": null
    },
    {
      "cell_type": "markdown",
      "source": [
        "<div style=\"background-color: #f0f0f0; color: #333; text-align: left; padding: 10px; border-radius: 12px; font-size: 22px; font-weight: bold; width: 60%; margin: 5px auto; box-shadow: 2px 2px 10px rgba(0,0,0,0.1);\">\n",
        "    <span style=\"font-size: 20px;\">✨</span>Analyse continuous features✨\n",
        "</div>"
      ],
      "metadata": {
        "id": "57355ec3-5ddd-4322-b9e7-1bd064417ad3"
      }
    },
    {
      "cell_type": "code",
      "source": [
        "df_continuous.describe().T"
      ],
      "metadata": {
        "trusted": true,
        "execution": {
          "iopub.status.busy": "2025-05-16T10:42:05.228638Z",
          "iopub.execute_input": "2025-05-16T10:42:05.229289Z",
          "iopub.status.idle": "2025-05-16T10:42:05.251569Z",
          "shell.execute_reply.started": "2025-05-16T10:42:05.229259Z",
          "shell.execute_reply": "2025-05-16T10:42:05.250719Z"
        },
        "id": "c11aa985-fee7-43ec-98a3-c516266819d4"
      },
      "outputs": [],
      "execution_count": null
    },
    {
      "cell_type": "markdown",
      "source": [
        "<div style=\"background-color: pink; color: #333; text-align: left; padding: 10px; border-radius: 12px; font-size: 20px; font-weight: bold; width: 60%; margin: 5px auto; box-shadow: 2px 2px 10px rgba(0,0,0,0.1);\">\n",
        "    <span style=\"font-size: 20px;\"></span>✨Statistical summary of the numerical features✨\n",
        "</div>"
      ],
      "metadata": {
        "id": "21c52153-f1a0-4a4c-99bf-b623311dd967"
      }
    },
    {
      "cell_type": "markdown",
      "source": [
        "<div style=\"text-align: left; font-size: 16px; font-weight: bold; padding: 10px; color: #333; background-color: #fafad2;\">\n",
        "    <ul>\n",
        "        <li><strong>Age:</strong></li>\n",
        "            <div style=\"font-weight: normal; margin-left: 20px;\">\n",
        "                The average age in the dataset is 54 years\n",
        "            </div>\n",
        "            <div style=\"font-weight: normal; margin-left: 20px;\">\n",
        "                The oldest is 77 years, and the youngest is 29 years old.\n",
        "            </div>\n",
        "            <li><strong>Resting blood pressure:</strong></li>\n",
        "            <div style=\"font-weight: normal; margin-left: 20px;\">\n",
        "                The average is 131 , max = 180 and min = 94\n",
        "            </div>    \n",
        "            <li><strong>Cholesterol:</strong></li>\n",
        "            <div style=\"font-weight: normal; margin-left: 20px;\">\n",
        "                The average registered cholestrol level is 245.34\n",
        "            </div>\n",
        "            <div style=\"font-weight: normal; margin-left: 20px;\">\n",
        "                Maximum level is 417 and the minimum level is 126.\n",
        "            </div>\n",
        "            <div style=\"font-weight: normal; margin-left: 20px;\">\n",
        "                Note: According to researches, a healthy cholesterol level is <200mg/dl and usually high level of cholesterol is associated with heart disease.\n",
        "            </div>        \n",
        "            <li><strong>St_depression:</strong></li>\n",
        "            <div style=\"font-weight: normal; margin-left: 20px;\">\n",
        "                The average value of st_dpression is 0.999. Max is 4.4 and the minimum is 0.\n",
        "            </div>  \n",
        "            <li><strong>Max heart rate achieved:</strong></li>\n",
        "            <div style=\"font-weight: normal; margin-left: 20px;\">\n",
        "               The average max heart rate registered is 149.93 bpm. The Maximum and the minumum are 202 and 88 bpm respectively.\n",
        "            </div>                    \n",
        "            </div>    \n",
        "            </div>\n",
        "            </div>\n",
        "        </li>\n",
        "    </ul>\n",
        "</div>"
      ],
      "metadata": {
        "id": "4282f879-2dbe-4649-adeb-183824b7bfa5"
      }
    },
    {
      "cell_type": "code",
      "source": [
        "# Histogram Continous values\n",
        "df_continuous.hist(bins=10, figsize=(12,10))\n",
        "plt.show()"
      ],
      "metadata": {
        "trusted": true,
        "execution": {
          "iopub.status.busy": "2025-05-16T10:42:14.798697Z",
          "iopub.execute_input": "2025-05-16T10:42:14.799355Z",
          "iopub.status.idle": "2025-05-16T10:42:15.762491Z",
          "shell.execute_reply.started": "2025-05-16T10:42:14.79932Z",
          "shell.execute_reply": "2025-05-16T10:42:15.761647Z"
        },
        "id": "4e87a1c0-ed4f-49c6-a4cb-4347a1be1425"
      },
      "outputs": [],
      "execution_count": null
    },
    {
      "cell_type": "code",
      "source": [
        "g= sns.pairplot(df3, hue='heart_disease', palette={ 0: 'blue', 1: 'red'})\n",
        "\n",
        "plt.suptitle(\"Feature distributions and relatioships by heart disease\", fontsize=16, y=1.02)\n",
        "plt.show()"
      ],
      "metadata": {
        "trusted": true,
        "execution": {
          "iopub.status.busy": "2025-05-16T10:42:23.375514Z",
          "iopub.execute_input": "2025-05-16T10:42:23.376152Z",
          "iopub.status.idle": "2025-05-16T10:42:34.089139Z",
          "shell.execute_reply.started": "2025-05-16T10:42:23.376124Z",
          "shell.execute_reply": "2025-05-16T10:42:34.088256Z"
        },
        "id": "06c38797-d1ca-4a78-a79e-6d417c4b1b70"
      },
      "outputs": [],
      "execution_count": null
    },
    {
      "cell_type": "code",
      "source": [
        "corr = df_continuous.corr()\n",
        "plt.figure(figsize=(8,6))\n",
        "sns.heatmap(corr, annot= True, cmap= 'RdBu_r',center=0,vmin=-1,vmax=1, square=True,fmt=\".1f\")\n",
        "plt.title('Correlation of continnous features')\n",
        "plt.show()"
      ],
      "metadata": {
        "trusted": true,
        "execution": {
          "iopub.status.busy": "2025-05-16T10:42:47.021458Z",
          "iopub.execute_input": "2025-05-16T10:42:47.021729Z",
          "iopub.status.idle": "2025-05-16T10:42:47.338925Z",
          "shell.execute_reply.started": "2025-05-16T10:42:47.021709Z",
          "shell.execute_reply": "2025-05-16T10:42:47.33813Z"
        },
        "id": "8192e18b-819c-43dc-936a-80146da5ce08"
      },
      "outputs": [],
      "execution_count": null
    },
    {
      "cell_type": "markdown",
      "source": [
        "<div style=\"text-align: left; font-size: 16px; font-weight: bold; padding: 10px; color: #333; background-color: #fff9c4;\">\n",
        "    ✔️ This plot indicates the correlation of continuous features (age, resting_bp, cholesterol, st_depression and max heart rate):\n",
        "    <ul>\n",
        "        <li><strong>Age and Max Heart Rate:</strong></li>\n",
        "            <div style=\"font-weight: normal; margin-left: 20px;\">\n",
        "                Moderate negative correlation (-0.4), indicating max heart rate tends to decrease as age increase.As people get older, their physical health and max heart rate may slowly decrease.\n",
        "            </div>\n",
        "            <li><strong>ST Depression and Max Heart Rate.</strong></li>\n",
        "            <div style=\"font-weight: normal; margin-left: 20px;\">\n",
        "                negative correlation (-0.34). Higher ST depression is linked to lower max heart rate. When we start to do more exercise, our heart rate will tend to increase and the ST depression will decrease.\n",
        "            </div>    \n",
        "            <li><strong>Age and Resting Blood pressure:</strong></li>\n",
        "            <div style=\"font-weight: normal; margin-left: 20px;\">\n",
        "                Weak positive correlation (0.3). Slight increase in blood pressure with age. older patients tend to have slightly higher blood pressure, but not by much.\n",
        "            </div>\n",
        "            <li><strong>Cholesterol:</strong></li>\n",
        "            <div style=\"font-weight: normal; margin-left: 20px;\">\n",
        "                very weak correlation with other features(<0.2). Limited predictive feature.\n",
        "            </div>  \n",
        "            <li><strong>Some other feature pairs show very low or no significant correlation, indicating limited to no linear relationship.</strong></li>\n",
        "            </div>    \n",
        "            </div>\n",
        "            </div>\n",
        "        </li>\n",
        "    </ul>\n",
        "</div>\n"
      ],
      "metadata": {
        "id": "50e46a58-da94-48f1-9c97-5037c548c9d0"
      }
    },
    {
      "cell_type": "code",
      "source": [
        "sns.pairplot(df_continuous, corner=True, plot_kws={'alpha': 0.6, 's': 40, 'edgecolor': 'k'})\n",
        "\n",
        "plt.suptitle(\"Continuous Feature distributions and relatioships\", fontsize=16, y=1.02)\n",
        "plt.tight_layout()\n",
        "plt.show()"
      ],
      "metadata": {
        "trusted": true,
        "execution": {
          "iopub.status.busy": "2025-05-16T10:41:07.181002Z",
          "iopub.execute_input": "2025-05-16T10:41:07.181621Z",
          "iopub.status.idle": "2025-05-16T10:41:10.509688Z",
          "shell.execute_reply.started": "2025-05-16T10:41:07.181598Z",
          "shell.execute_reply": "2025-05-16T10:41:10.508962Z"
        },
        "id": "36ff11a8-dc12-48d3-9bf4-b90cbe615057"
      },
      "outputs": [],
      "execution_count": null
    },
    {
      "cell_type": "code",
      "source": [
        "# Set the style\n",
        "sns.set(style=\"whitegrid\")\n",
        "\n",
        "# Create subplot\n",
        "fig, axes = plt.subplots(1, 2, figsize=(14, 6))\n",
        "\n",
        "# Scatter Plot 1: Age vs Max Heart Rate\n",
        "sns.regplot(data=df3, x='age',y='max_heart_rate',ax=axes[0],color='teal')\n",
        "axes[0].set_title(\"Age vs Max Heart Rate\", fontsize=14)\n",
        "axes[0].set_xlabel(\"Age\", fontsize=12)\n",
        "axes[0].set_ylabel(\"Max Heart Rate\", fontsize=12)\n",
        "\n",
        "# Scatter Plot 2: ST Depression vs Max Heart Rate\n",
        "sns.regplot(data=df3, x='st_depression',y='max_heart_rate',ax=axes[1],color='coral')\n",
        "\n",
        "#sns.scatterplot(data=df3,x='st_depression',y='max_heart_rate',ax=axes[1],color='coral',edgecolor='black', s=50,alpha=0.7)\n",
        "axes[1].set_title(\"ST Depression vs Max Heart Rate\", fontsize=14)\n",
        "axes[1].set_xlabel(\"ST Depression\", fontsize=12)\n",
        "axes[1].set_ylabel(\"Max Heart Rate\", fontsize=12)\n",
        "\n",
        "plt.tight_layout()\n",
        "plt.show()\n"
      ],
      "metadata": {
        "trusted": true,
        "execution": {
          "iopub.status.busy": "2025-05-16T10:41:19.458008Z",
          "iopub.execute_input": "2025-05-16T10:41:19.458519Z",
          "iopub.status.idle": "2025-05-16T10:41:20.180087Z",
          "shell.execute_reply.started": "2025-05-16T10:41:19.458496Z",
          "shell.execute_reply": "2025-05-16T10:41:20.179302Z"
        },
        "id": "9d26e05e-cfa7-4944-bca6-83fdfa72e488"
      },
      "outputs": [],
      "execution_count": null
    },
    {
      "cell_type": "markdown",
      "source": [
        "##### - Max heart rate decreases with age and there is a downward trend.Older people usually have lower maximum heart rates.\n",
        "#####  - There is a weak negative relationship between ST depression and max heart rate. When ST depression is higher, the maximum heart rate is often lower."
      ],
      "metadata": {
        "id": "66a29960-a472-4d61-9325-ad2712787255"
      }
    },
    {
      "cell_type": "code",
      "source": [
        "plt.figure(figsize=(15, 10))\n",
        "\n",
        "for i, feature in enumerate(df_continuous):\n",
        "    plt.subplot(2, 3, i+1)\n",
        "    sns.boxplot(data=df3, x='heart_disease', y=feature, palette='husl')\n",
        "    plt.title(f'{feature} vs Heart Disease')\n",
        "    plt.xlabel('Heart Disease')\n",
        "    plt.ylabel(feature)\n",
        "    plt.xticks([0, 1], ['No Disease', 'Disease'])\n",
        "\n",
        "plt.tight_layout()\n",
        "plt.show()"
      ],
      "metadata": {
        "trusted": true,
        "execution": {
          "iopub.status.busy": "2025-05-16T10:45:25.209924Z",
          "iopub.execute_input": "2025-05-16T10:45:25.21023Z",
          "iopub.status.idle": "2025-05-16T10:45:26.035905Z",
          "shell.execute_reply.started": "2025-05-16T10:45:25.210207Z",
          "shell.execute_reply": "2025-05-16T10:45:26.035037Z"
        },
        "id": "0aeac830-cb15-47e1-8dc8-fc0f6442517c"
      },
      "outputs": [],
      "execution_count": null
    },
    {
      "cell_type": "markdown",
      "source": [
        "<div style=\"text-align: left; font-size: 16px; font-weight: bold; padding: 10px; color: #333; background-color: #fff9c4;\">\n",
        "    ✔️ These plots indicate differences in several health parameters between patients with and without heart disease.  <ul>\n",
        "        <li>Age, cholesterol, and blood pressure don’t differ much between groups — They are not strong indicators.</li>\n",
        "        <li>ST depression is noticeably lower in heart disease patients — it could be a useful feature.</li>\n",
        "        <li>Max heart rate is higher in heart disease patients — it is also potentially useful for diagnosis.</li> </div>"
      ],
      "metadata": {
        "id": "97771f07-405b-4270-8286-9d71ff5c33cb"
      }
    },
    {
      "cell_type": "code",
      "source": [
        "for i in df_continuous:\n",
        "    fig, ax = plt.subplots(1, 1, figsize=(7, 4))\n",
        "\n",
        "    sns.histplot(data=df3, x=i, hue='heart_disease', bins=10, multiple='stack', ax=ax,palette={0:'#D12C7A',1:'blue'})\n",
        "\n",
        "    ax.set_title(f\"{i} distribution by heart disease status\", fontsize=13)\n",
        "    ax.set_xlabel(i)\n",
        "    ax.set_ylabel(\"Count\")\n",
        "    ax.legend(labels=[\"Negative\", \"Positive\"], title=\"Heart Disease\")\n",
        "\n",
        "    plt.tight_layout()\n",
        "    plt.show()"
      ],
      "metadata": {
        "trusted": true,
        "execution": {
          "iopub.status.busy": "2025-05-16T10:44:44.835905Z",
          "iopub.execute_input": "2025-05-16T10:44:44.836457Z",
          "iopub.status.idle": "2025-05-16T10:44:46.692274Z",
          "shell.execute_reply.started": "2025-05-16T10:44:44.836433Z",
          "shell.execute_reply": "2025-05-16T10:44:46.691521Z"
        },
        "id": "f6cd7ee6-d84f-4dbf-93c3-9c2a545a3109"
      },
      "outputs": [],
      "execution_count": null
    },
    {
      "cell_type": "code",
      "source": [
        "cols=col_continuous[1:]\n",
        "fig, ax = plt.subplots(1, len(cols), figsize=(5 * len(cols), 4))\n",
        "\n",
        "# Convert ax to a flat list if it's a NumPy array\n",
        "ax = ax.flatten() if hasattr(ax, 'flatten') else ax\n",
        "\n",
        "\n",
        "for i, col in enumerate(cols):\n",
        "    sns.regplot(data=df3[df3['heart_disease'] == 1], x='age', y=col, ax=ax[i], color='red', label='Heart disease')\n",
        "    sns.regplot(data=df3[df3['heart_disease'] == 0], x='age', y=col, ax=ax[i], color='blue', label='No disease')\n",
        "    ax[i].legend()\n",
        "    ax[i].set_title(f'Age vs {col}')"
      ],
      "metadata": {
        "trusted": true,
        "execution": {
          "iopub.status.busy": "2025-05-16T11:11:38.036088Z",
          "iopub.execute_input": "2025-05-16T11:11:38.036966Z",
          "iopub.status.idle": "2025-05-16T11:11:40.041834Z",
          "shell.execute_reply.started": "2025-05-16T11:11:38.036936Z",
          "shell.execute_reply": "2025-05-16T11:11:40.041003Z"
        },
        "id": "d969627c-ce1c-4019-aa29-42d92daec428"
      },
      "outputs": [],
      "execution_count": null
    },
    {
      "cell_type": "markdown",
      "source": [
        "<div style=\"background-color: #ffffcc; padding: 10px;\">🌟  Resting blood pressure, cholesterol, and ST depression are positively and linearly related with age, although the relationship with ST depression is weaker.</div>\n",
        "<div style=\"background-color: #ffffcc; padding: 10px;\">🌟  Lower st_depression regardless of age is also likely an indication of a heart disease.</div>\n",
        "<div style=\"background-color: #ffffcc; padding: 10px;\">🌟  Max heart rate decreases with age and there is a downward trend.Older people usually have lower maximum heart rates.</div>\n",
        "<div style=\"background-color: #ffffcc; padding: 10px;\">🌟  Younger patients with higher maximum_heart_rate are more likely to have a heart condition.</div>\n",
        "</div>"
      ],
      "metadata": {
        "id": "f5379a09-03a1-487d-85ba-bfd7214da483"
      }
    },
    {
      "cell_type": "markdown",
      "source": [
        "<div style=\"text-align: left; font-size: 16px; font-weight: 600; padding: 15px 25px; color: #3e4a5b; background-color: #f0f0f0; border-radius: 50px; box-shadow: 0 4px 8px rgba(0, 0, 0, 0.1); width: fit-content; margin: 20px auto;\">\n",
        "    <h4 style=\"margin: 0;\"> Who is more likely to have heart disease: males or females❓</h4>\n",
        "</div>"
      ],
      "metadata": {
        "id": "d3f030d6-da1f-4db2-8fbc-ddc21ed429b3"
      }
    },
    {
      "cell_type": "code",
      "source": [
        "count_value = df3['sex'].value_counts()\n",
        "sex = df3['sex'].value_counts().index\n",
        "\n",
        "print(count_value)\n",
        "\n",
        "fig, (ax1, ax2) = plt.subplots(1, 2, figsize=(12, 5))\n",
        "\n",
        "# Plot Gender Distribution\n",
        "ax1.bar(sex,count_value,label=sex,color=['pink','skyblue'],width=0.5)\n",
        "ax1.set_title(\"Distribution of Patient Gender\")\n",
        "ax1.set_xlabel('Gender')\n",
        "ax1.set_ylabel('Count')\n",
        "ax1.grid(linestyle='--', axis='y',dashes=(1,5))\n",
        "\n",
        "# Create a count table of sex vs target\n",
        "gender_target = pd.crosstab(df3['sex'], df3['heart_disease'])\n",
        "\n",
        "# Plot Gender vs Heart Disease\n",
        "gender_target.plot(kind='bar', color=['blue', 'red'], width=0.6,ax=ax2)\n",
        "\n",
        "ax2.set_title(\"Heart Disease Distribution by Gender\")\n",
        "ax2.set_xlabel(\"Gender\")\n",
        "ax2.set_ylabel(\"Count\")\n",
        "ax2.grid(linestyle='--', axis='y', dashes=(1, 5))\n",
        "ax2.legend(title='Heart disease',labels=['negetive','positive'])\n",
        "\n",
        "plt.tight_layout()\n",
        "plt.show()"
      ],
      "metadata": {
        "trusted": true,
        "execution": {
          "iopub.status.busy": "2025-05-16T11:12:16.230877Z",
          "iopub.execute_input": "2025-05-16T11:12:16.231183Z",
          "iopub.status.idle": "2025-05-16T11:12:16.636238Z",
          "shell.execute_reply.started": "2025-05-16T11:12:16.231162Z",
          "shell.execute_reply": "2025-05-16T11:12:16.635402Z"
        },
        "id": "f4955119-8528-4e5b-839e-6a0901a9dbb7"
      },
      "outputs": [],
      "execution_count": null
    },
    {
      "cell_type": "code",
      "source": [
        "# Counts\n",
        "male_counts = [\n",
        "    no_disease[no_disease['sex'] == 'male'].shape[0],\n",
        "    disease[disease['sex'] == 'male'].shape[0]\n",
        "]\n",
        "\n",
        "female_counts = [\n",
        "    no_disease[no_disease['sex'] == 'female'].shape[0],\n",
        "    disease[disease['sex'] == 'female'].shape[0]\n",
        "]\n",
        "\n",
        "# Colors\n",
        "female_colors = ['lightgreen', 'orange']\n",
        "male_colors = ['blue', 'yellow']\n",
        "\n",
        "# Function to format both percentage and raw count\n",
        "def make_autopct(values):\n",
        "    def my_autopct(pct):\n",
        "        total = sum(values)\n",
        "        val = int(round(pct * total / 100.0))\n",
        "        return f'{pct:.1f}%\\n({val})'\n",
        "    return my_autopct\n",
        "\n",
        "# Plot\n",
        "fig, (ax1, ax2) = plt.subplots(1, 2, figsize=(12, 5))\n",
        "\n",
        "# Outer ring (Female)\n",
        "female_pie = ax1.pie(female_counts, labels=None, autopct=make_autopct(female_counts), startangle=90,radius=1.0, colors=female_colors,wedgeprops=dict(width=0.3), pctdistance=0.85)\n",
        "\n",
        "# Inner ring (Male)\n",
        "male_pie = ax1.pie(male_counts, labels=None,autopct=make_autopct(male_counts), startangle=90, radius=0.7, colors=male_colors,wedgeprops=dict(width=0.3), pctdistance=0.75)\n",
        "\n",
        "# Title\n",
        "ax1.set_title('Patient Distribution by Gender and Disease', fontsize=16, weight='bold')\n",
        "\n",
        "# Legend\n",
        "custom_labels = ['Female - No Disease', 'Female - Heart Disease','Male - No Disease', 'Male - Heart Disease']\n",
        "ax1.legend(custom_labels, loc='upper right',bbox_to_anchor=(1.4, 1))\n",
        "\n",
        "sex_counts = df3.groupby(['heart_disease', 'sex']).size().reset_index(name='count')\n",
        "sex_counts['percentage'] = sex_counts['count'] / sex_counts.groupby('heart_disease')['count'].transform('sum') * 100\n",
        "\n",
        "# Plot 2: Percentage barplot\n",
        "barplot2 = sns.barplot(data=sex_counts, x='heart_disease', y='percentage', hue='sex', palette='Set2', ax=ax2)\n",
        "ax2.set_title(\"sex by Heart Disease Status\", fontsize=14)\n",
        "ax2.set_xlabel(\"Heart Disease\", fontsize=12)\n",
        "ax2.set_ylabel(\"Percentage\", fontsize=12)\n",
        "ax2.set_xticks([0, 1])\n",
        "ax2.set_xticklabels(['No Disease', 'Disease'])\n",
        "ax2.legend(title=' sex')\n",
        "\n",
        "# Add percentage labels\n",
        "for container in barplot2.containers:\n",
        "    barplot2.bar_label(container, fmt='%.1f%%', fontsize=10)\n",
        "\n",
        "plt.tight_layout()\n",
        "plt.show()\n"
      ],
      "metadata": {
        "trusted": true,
        "execution": {
          "iopub.status.busy": "2025-05-16T11:12:24.398203Z",
          "iopub.execute_input": "2025-05-16T11:12:24.398962Z",
          "iopub.status.idle": "2025-05-16T11:12:24.872683Z",
          "shell.execute_reply.started": "2025-05-16T11:12:24.398928Z",
          "shell.execute_reply": "2025-05-16T11:12:24.871885Z"
        },
        "id": "53332459-19aa-447a-831d-6a33d5ddaccd"
      },
      "outputs": [],
      "execution_count": null
    },
    {
      "cell_type": "markdown",
      "source": [
        "<div style=\"text-align: left; font-size: 22px; font-weight: bold; padding: 10px; color: #333; background-color: #fff9c4;\">\n",
        "    <h6>✔️Plots indicate that heart disease is more common in male than female and male patients have higher chance of heart attack, even though female patients make up a larger portion of the dataset.</h6>\n",
        "</div>"
      ],
      "metadata": {
        "id": "f3bc1586-4c32-4e15-8907-4f111af60905"
      }
    },
    {
      "cell_type": "markdown",
      "source": [
        "<div style=\"text-align: left; font-size: 16px; font-weight: 600; padding: 15px 25px; color: #3e4a5b; background-color: #f0f0f0; border-radius: 50px; box-shadow: 0 4px 8px rgba(0, 0, 0, 0.1); width: fit-content; margin: 20px auto;\">\n",
        "    <h4 style=\"margin: 0;\"> Which age group has the highest risk of heart disease❓</h4>\n",
        "</div>"
      ],
      "metadata": {
        "id": "6a2c7366-94fe-4338-a8e2-90a3fdbd95a9"
      }
    },
    {
      "cell_type": "code",
      "source": [
        "print('Minimum of age:',df3['age'].min())\n",
        "print('Maximum of age:',df3['age'].max())"
      ],
      "metadata": {
        "trusted": true,
        "execution": {
          "iopub.status.busy": "2025-05-16T11:12:34.030425Z",
          "iopub.execute_input": "2025-05-16T11:12:34.031031Z",
          "iopub.status.idle": "2025-05-16T11:12:34.036287Z",
          "shell.execute_reply.started": "2025-05-16T11:12:34.031003Z",
          "shell.execute_reply": "2025-05-16T11:12:34.035351Z"
        },
        "id": "df59626d-1ee6-4d48-80a3-53e49650759d"
      },
      "outputs": [],
      "execution_count": null
    },
    {
      "cell_type": "code",
      "source": [
        "# Create age group\n",
        "bins = [20, 30, 40, 50, 60, 70, 80]\n",
        "labels = ['21-30', '31-40', '41-50', '51-60', '61-70', '71-80']\n",
        "df3['age_group'] = pd.cut(df3['age'],bins=bins,labels=labels)\n",
        "df3.head()"
      ],
      "metadata": {
        "trusted": true,
        "execution": {
          "iopub.status.busy": "2025-05-16T11:12:36.520094Z",
          "iopub.execute_input": "2025-05-16T11:12:36.52073Z",
          "iopub.status.idle": "2025-05-16T11:12:36.536526Z",
          "shell.execute_reply.started": "2025-05-16T11:12:36.5207Z",
          "shell.execute_reply": "2025-05-16T11:12:36.535477Z"
        },
        "id": "ac344d39-c8ae-4af1-98d6-3fbfa273d926"
      },
      "outputs": [],
      "execution_count": null
    },
    {
      "cell_type": "code",
      "source": [
        "# Plot\n",
        "fig, (ax0, ax1) = plt.subplots(ncols=2, figsize=(12, 5))\n",
        "\n",
        "sns.countplot(data=df3,x='age_group',hue='heart_disease',palette=['lightgreen', 'red'], ax=ax0, width=0.5)\n",
        "ax0.set_title(\"Age Distribution\")\n",
        "ax0.set_xlabel('Age')\n",
        "ax0.set_ylabel('Count')\n",
        "ax0.grid(linestyle='--', axis='y', dashes=(1, 5))\n",
        "ax0.legend(title='Heart Disease', labels=['No Disease', 'Heart Disease'])\n",
        "\n",
        "# Get age counts\n",
        "disease_age_counts = disease['age'].value_counts().sort_index()\n",
        "no_disease_age_counts = no_disease['age'].value_counts().sort_index()\n",
        "\n",
        "age_disease = disease_age_counts.index\n",
        "count_disease = disease_age_counts.values\n",
        "\n",
        "age_no_disease = no_disease_age_counts.index\n",
        "count_no_disease = no_disease_age_counts.values\n",
        "\n",
        "# Scatter plots on ax1\n",
        "ax1.scatter(age_disease, count_disease, color='red', s=150, alpha=0.6, label='Heart Disease')\n",
        "ax1.scatter(age_no_disease, count_no_disease, color='blue', s=150, alpha=0.6, label='No Disease')\n",
        "\n",
        "# Customize ax1\n",
        "ax1.set_xlabel('Age')\n",
        "ax1.set_ylabel('Number of Patients')\n",
        "ax1.set_title('Age Distribution by Heart Disease Status')\n",
        "ax1.grid(linestyle='--', axis='y', dashes=(1, 5))\n",
        "ax1.legend()\n",
        "plt.tight_layout()\n",
        "plt.show()"
      ],
      "metadata": {
        "trusted": true,
        "execution": {
          "iopub.status.busy": "2025-05-16T11:12:44.383113Z",
          "iopub.execute_input": "2025-05-16T11:12:44.383641Z",
          "iopub.status.idle": "2025-05-16T11:12:44.984631Z",
          "shell.execute_reply.started": "2025-05-16T11:12:44.383616Z",
          "shell.execute_reply": "2025-05-16T11:12:44.983867Z"
        },
        "id": "ba48c6b7-7f4d-48ca-8488-1d6986014393"
      },
      "outputs": [],
      "execution_count": null
    },
    {
      "cell_type": "markdown",
      "source": [
        "<div style=\"text-align: left; font-size: 20px; font-weight: bold; padding: 10px; color: #333; background-color: #fff9c4;\">\n",
        "    <h6>✔️Plots display the age group 51-60 has the highest risk of heart disease, and the risk starts to increase from age 40</h6>\n",
        "        <h6>✔️Age from 40-60 years have the high chance of heart attack</h6>\n",
        "</div>"
      ],
      "metadata": {
        "id": "b0efeb7b-6299-46a1-aaa9-8be90a251fb3"
      }
    },
    {
      "cell_type": "markdown",
      "source": [
        "<div style=\"text-align: left; font-size: 16px; font-weight: 600; padding: 15px 25px; color: #3e4a5b; background-color: #f0f0f0; border-radius: 50px; box-shadow: 0 4px 8px rgba(0, 0, 0, 0.1); width: fit-content; margin: 20px auto;\">\n",
        "    <h4 style=\"margin: 0;\"> Is there a relation between exercise-induced angina and heart disease❓</h4>\n",
        "</div>"
      ],
      "metadata": {
        "id": "e01ec01a-bf86-4139-a435-90ea17632d2f"
      }
    },
    {
      "cell_type": "code",
      "source": [
        "# Prepare data\n",
        "ecg_counts = df3.groupby(['heart_disease', 'exercise_induced_angina']).size().reset_index(name='count')\n",
        "ecg_counts['percentage'] = ecg_counts['count'] / ecg_counts.groupby('heart_disease')['count'].transform('sum') * 100\n",
        "\n",
        "# Create subplots\n",
        "fig, axes = plt.subplots(1, 2, figsize=(16, 6), dpi=120)\n",
        "\n",
        "# Plot 1: Countplot\n",
        "colors = ['blue', 'red']\n",
        "barplot1 = sns.countplot(data=df3, x='exercise_induced_angina', hue='heart_disease', palette=colors, ax=axes[0], width=0.5)\n",
        "axes[0].set_title(\"Exercise Induced Angina vs Heart Disease\", fontsize=14)\n",
        "axes[0].set_xlabel('Exercise Induced Angina', fontsize=12)\n",
        "axes[0].set_ylabel('Count', fontsize=12)\n",
        "axes[0].legend(title='Heart Disease', labels=['No Disease', 'Heart Disease'])\n",
        "axes[0].grid(True, linestyle='--', axis='y', dashes=(1, 5))\n",
        "axes[0].invert_xaxis()\n",
        "axes[0].tick_params(axis='x', rotation=45)\n",
        "\n",
        "# Add value labels to barplot1\n",
        "for container in barplot1.containers:\n",
        "    barplot1.bar_label(container, fontsize=10)\n",
        "\n",
        "# Plot 2: Percentage barplot using corrected data\n",
        "barplot2 = sns.barplot(data=ecg_counts, x='heart_disease', y='percentage', hue='exercise_induced_angina', palette='Set2', ax=axes[1])\n",
        "axes[1].set_title(\"Exercise Induced Angina by Heart Disease Status\", fontsize=14)\n",
        "axes[1].set_xlabel(\"Heart Disease\", fontsize=12)\n",
        "axes[1].set_ylabel(\"Percentage\", fontsize=12)\n",
        "axes[1].set_xticks([0, 1])\n",
        "axes[1].set_xticklabels(['No Disease', 'Disease'])\n",
        "axes[1].legend(title='Exercise Induced Angina')\n",
        "\n",
        "# Add percentage labels\n",
        "for container in barplot2.containers:\n",
        "    barplot2.bar_label(container, fmt='%.1f%%', fontsize=10)\n",
        "\n",
        "plt.tight_layout()\n",
        "plt.show()\n"
      ],
      "metadata": {
        "trusted": true,
        "execution": {
          "iopub.status.busy": "2025-05-16T11:12:58.238111Z",
          "iopub.execute_input": "2025-05-16T11:12:58.238393Z",
          "iopub.status.idle": "2025-05-16T11:12:58.725334Z",
          "shell.execute_reply.started": "2025-05-16T11:12:58.238374Z",
          "shell.execute_reply": "2025-05-16T11:12:58.724517Z"
        },
        "id": "a9f72641-71fb-4d89-822a-14da44f92553"
      },
      "outputs": [],
      "execution_count": null
    },
    {
      "cell_type": "markdown",
      "source": [
        "<div style=\"text-align: left; font-size: 20px; font-weight: bold; padding: 10px; color: #333; background-color: #fff9c4;\">\n",
        "    <h6>✔️These plots display that people with no exercise induced angina have higher chance of heart attack</h6>\n",
        "</div>"
      ],
      "metadata": {
        "id": "f13f3c39-7b36-4ffb-a516-66e35601e7bb"
      }
    },
    {
      "cell_type": "markdown",
      "source": [
        "<div style=\"text-align: left; font-size: 16px; font-weight: 600; padding: 15px 25px; color: #3e4a5b; background-color: #f0f0f0; border-radius: 50px; box-shadow: 0 4px 8px rgba(0, 0, 0, 0.1); width: fit-content; margin: 20px auto;\">\n",
        "    <h4 style=\"margin: 0;\"> What is the distribution of thalium stress test results by disease status❓</h4>\n",
        "</div>"
      ],
      "metadata": {
        "id": "4483df48-fd3c-4688-acf3-5b9333108c1f"
      }
    },
    {
      "cell_type": "code",
      "source": [
        "# Prepare data\n",
        "thal_counts = df3.groupby(['heart_disease', 'thalium_result']).size().reset_index(name='count')\n",
        "thal_counts['percentage'] = thal_counts['count'] / thal_counts.groupby('heart_disease')['count'].transform('sum') * 100\n",
        "\n",
        "# Create subplots\n",
        "fig, axes = plt.subplots(1, 2, figsize=(16, 6), dpi=120)\n",
        "\n",
        "# Calculate proportions\n",
        "proportions = df3.groupby('thalium_result')['heart_disease'].value_counts(normalize=True).unstack().fillna(0)\n",
        "\n",
        "# Plot 1:\n",
        "proportions.plot(kind='bar', stacked=True, colormap='Set1',edgecolor='black',ax=axes[0] )\n",
        "axes[0].set_xlabel('thalium stress test result', fontsize=12)\n",
        "axes[0].set_ylabel('possibility', fontsize=12)\n",
        "axes[0].set_title('thalium stress test result vs Heart Disease', fontsize=14)\n",
        "axes[0].legend(title='heart disease',labels=['Negative','positive'],loc='upper right',bbox_to_anchor=(1.2, 1))\n",
        "axes[0].grid(True, linestyle='--', axis='y', dashes=(1, 5))\n",
        "axes[0].tick_params(axis='x', rotation=45)\n",
        "\n",
        "# Plot 2: Percentage barplot\n",
        "barplot2 = sns.barplot(data=thal_counts, x='heart_disease', y='percentage', hue='thalium_result', palette='Set2', ax=axes[1])\n",
        "axes[1].set_title(\"thalium stress test result by Heart Disease Status\", fontsize=14)\n",
        "axes[1].set_xlabel(\"Heart Disease\", fontsize=12)\n",
        "axes[1].set_ylabel(\"Percentage\", fontsize=12)\n",
        "axes[1].set_xticks([0, 1])\n",
        "axes[1].set_xticklabels(['No Disease', 'Disease'])\n",
        "axes[1].legend(title='thalium stress test result')\n",
        "\n",
        "# Add percentage labels\n",
        "for container in barplot2.containers:\n",
        "    barplot2.bar_label(container, fmt='%.1f%%', fontsize=10)\n",
        "\n",
        "plt.tight_layout()\n",
        "plt.show()"
      ],
      "metadata": {
        "trusted": true,
        "execution": {
          "iopub.status.busy": "2025-05-16T11:13:08.153394Z",
          "iopub.execute_input": "2025-05-16T11:13:08.153672Z",
          "iopub.status.idle": "2025-05-16T11:13:08.732363Z",
          "shell.execute_reply.started": "2025-05-16T11:13:08.153653Z",
          "shell.execute_reply": "2025-05-16T11:13:08.731522Z"
        },
        "id": "3075720b-e739-4db9-a137-fc9499616d3b"
      },
      "outputs": [],
      "execution_count": null
    },
    {
      "cell_type": "markdown",
      "source": [
        "<div style=\"text-align: left; font-size: 20px; font-weight: bold; padding: 10px; color: #333; background-color: #fff9c4;\">\n",
        "    <h6>✔️These plots show that patients with a 'Reversible Defect' result on the thallium stress test have a higher chance of having a heart attack</h6>\n",
        "</div>"
      ],
      "metadata": {
        "id": "d9d0cefb-31cf-4dac-b7f1-cc60c7e1a120"
      }
    },
    {
      "cell_type": "markdown",
      "source": [
        "<div style=\"text-align: left; font-size: 16px; font-weight: 600; padding: 15px 25px; color: #3e4a5b; background-color: #f0f0f0; border-radius: 50px; box-shadow: 0 4px 8px rgba(0, 0, 0, 0.1); width: fit-content; margin: 20px auto;\">\n",
        "    <h4 style=\"margin: 0;\"> Does Chest Pain Type Affect the Likelihood of Heart Disease❓</h4>\n",
        "</div>"
      ],
      "metadata": {
        "id": "369a911e-2aa0-4c10-abf9-37cb2b5ea0e4"
      }
    },
    {
      "cell_type": "code",
      "source": [
        "# Prepare data\n",
        "cp_counts = df3.groupby(['heart_disease', 'chest_pain_type']).size().reset_index(name='count')\n",
        "cp_counts['percentage'] = cp_counts['count'] / cp_counts.groupby('heart_disease')['count'].transform('sum') * 100\n",
        "\n",
        "# Create subplots\n",
        "fig, axes = plt.subplots(1, 2, figsize=(16, 6), dpi=120)\n",
        "\n",
        "# Calculate proportions\n",
        "proportions = df3.groupby('chest_pain_type')['heart_disease'].value_counts(normalize=True).unstack()\n",
        "\n",
        "# Plot 1:\n",
        "proportions.plot(kind='bar', stacked=True, colormap='Set1',edgecolor='black',ax=axes[0] )\n",
        "axes[0].set_xlabel('Chest Pain Type', fontsize=12)\n",
        "axes[0].set_ylabel('possibility', fontsize=12)\n",
        "axes[0].set_title('Chest Pain type vs Heart Disease', fontsize=14)\n",
        "axes[0].legend(title='heart disease',labels=['Negative','positive'],loc='upper right',bbox_to_anchor=(1.2, 1))\n",
        "plt.tight_layout()\n",
        "axes[0].grid(True, linestyle='--', axis='y', dashes=(1, 5))\n",
        "axes[0].tick_params(axis='x', rotation=45)\n",
        "\n",
        "\n",
        "# Plot 2: Percentage barplot\n",
        "barplot2 = sns.barplot(data=cp_counts, x='heart_disease', y='percentage', hue='chest_pain_type', palette='Set2', ax=axes[1])\n",
        "axes[1].set_title(\"Chest Pain Types by Heart Disease Status\", fontsize=14)\n",
        "axes[1].set_xlabel(\"Heart Disease\", fontsize=12)\n",
        "axes[1].set_ylabel(\"Percentage\", fontsize=12)\n",
        "axes[1].set_xticks([0, 1])\n",
        "axes[1].set_xticklabels(['No Disease', 'Disease'])\n",
        "axes[1].legend(title='Chest Pain Type')\n",
        "\n",
        "# Add percentage labels\n",
        "for container in barplot2.containers:\n",
        "    barplot2.bar_label(container, fmt='%.1f%%', fontsize=10)\n",
        "\n",
        "plt.tight_layout()\n",
        "plt.show()"
      ],
      "metadata": {
        "trusted": true,
        "execution": {
          "iopub.status.busy": "2025-05-16T11:13:16.787063Z",
          "iopub.execute_input": "2025-05-16T11:13:16.787332Z",
          "iopub.status.idle": "2025-05-16T11:13:17.397049Z",
          "shell.execute_reply.started": "2025-05-16T11:13:16.787314Z",
          "shell.execute_reply": "2025-05-16T11:13:17.396201Z"
        },
        "id": "2d57f70e-6ad3-4d93-9fde-99e9dec9c13e"
      },
      "outputs": [],
      "execution_count": null
    },
    {
      "cell_type": "markdown",
      "source": [
        "<div style=\"text-align: left; font-size: 20px; font-weight: bold; padding: 10px; color: #333; background-color: #fff9c4;\">\n",
        "    <h6>✔️These plots show that people with Non-Anginal chest pain have higher chances of heart attack compared to those with other chest pain types. When we suffer from typical angina, the possibility of having heart disease is much lower than those with atypical angina, non-anginal pain and asymptomatic condition.</h6>\n",
        "</div>"
      ],
      "metadata": {
        "id": "29331c38-bfb5-48e4-9f01-afc41f5b2394"
      }
    },
    {
      "cell_type": "markdown",
      "source": [
        "<div style=\"text-align: left; font-size: 16px; font-weight: 600; padding: 15px 25px; color: #3e4a5b; background-color: #f0f0f0; border-radius: 50px; box-shadow: 0 4px 8px rgba(0, 0, 0, 0.1); width: fit-content; margin: 20px auto;\">\n",
        "    <h4 style=\"margin: 0;\"> What kind of ECG results (restecg) are more common in patients with heart disease❓</h4>\n",
        "</div>"
      ],
      "metadata": {
        "id": "bf6399e7-629b-4b73-b9e0-0d25c3eb3626"
      }
    },
    {
      "cell_type": "code",
      "source": [
        "restecg_counts = df3.groupby(['heart_disease', 'rest_ecg_result']).size().reset_index(name='count')\n",
        "restecg_counts['percentage'] = restecg_counts['count'] / restecg_counts.groupby('heart_disease')['count'].transform('sum') * 100\n",
        "\n",
        "# Create subplots\n",
        "fig, axes = plt.subplots(1, 2, figsize=(16, 6), dpi=120)\n",
        "\n",
        "# Calculate proportions\n",
        "proportions = df3.groupby('rest_ecg_result')['heart_disease'].value_counts(normalize=True).unstack().fillna(0)\n",
        "\n",
        "# Plot 1:\n",
        "proportions.plot(kind='bar', stacked=True, colormap='Set1',edgecolor='black',ax=axes[0] )\n",
        "axes[0].set_xlabel('RestEcg result', fontsize=12)\n",
        "axes[0].set_ylabel('possibility', fontsize=12)\n",
        "axes[0].set_title('RestEcg result vs Heart Disease', fontsize=14)\n",
        "axes[0].legend(title='heart disease',labels=['Negative','positive'],loc='upper right',bbox_to_anchor=(1.2, 1))\n",
        "plt.tight_layout()\n",
        "axes[0].grid(True, linestyle='--', axis='y', dashes=(1, 5))\n",
        "axes[0].tick_params(axis='x', rotation=45)\n",
        "\n",
        "\n",
        "# Plot 2: Percentage barplot\n",
        "barplot2 = sns.barplot(data=restecg_counts, x='heart_disease', y='percentage', hue='rest_ecg_result', palette='Set2', ax=axes[1])\n",
        "axes[1].set_title(\"RestEcg result by Heart Disease Status\", fontsize=14)\n",
        "axes[1].set_xlabel(\"Heart Disease\", fontsize=12)\n",
        "axes[1].set_ylabel(\"Percentage\", fontsize=12)\n",
        "axes[1].set_xticks([0, 1])\n",
        "axes[1].set_xticklabels(['No Disease', 'Disease'])\n",
        "axes[1].legend(title='RestEcg result')\n",
        "\n",
        "# Add percentage labels\n",
        "for container in barplot2.containers:\n",
        "    barplot2.bar_label(container, fmt='%.1f%%', fontsize=10)\n",
        "\n",
        "plt.tight_layout()\n",
        "plt.show()"
      ],
      "metadata": {
        "trusted": true,
        "execution": {
          "iopub.status.busy": "2025-05-16T11:13:24.400855Z",
          "iopub.execute_input": "2025-05-16T11:13:24.401405Z",
          "iopub.status.idle": "2025-05-16T11:13:24.995694Z",
          "shell.execute_reply.started": "2025-05-16T11:13:24.401377Z",
          "shell.execute_reply": "2025-05-16T11:13:24.994727Z"
        },
        "id": "f7b6b97d-e589-4cce-b2da-7ecfea644b10"
      },
      "outputs": [],
      "execution_count": null
    },
    {
      "cell_type": "markdown",
      "source": [
        "<div style=\"text-align: left; font-size: 20px; font-weight: bold; padding: 10px; color: #333; background-color: #fff9c4;\">\n",
        "    <h6>✔️These plots show that people with ST Twave abnormality have higher chances of heart attack compared to those with other Restcg results. the prevalence in people have ST-T wave abnormality seem to be much higher than those who are normal or show probable definite left ventricular hypertrophy.</h6>\n",
        "</div>"
      ],
      "metadata": {
        "id": "3f1c9dfb-afa3-4204-9f71-0ae275255192"
      }
    },
    {
      "cell_type": "markdown",
      "source": [
        "<div style=\"text-align: left; font-size: 16px; font-weight: 600; padding: 15px 25px; color: #3e4a5b; background-color: #f0f0f0; border-radius: 50px; box-shadow: 0 4px 8px rgba(0, 0, 0, 0.1); width: fit-content; margin: 20px auto;\">\n",
        "    <h4 style=\"margin: 0;\"> Does a higher resting blood pressure increase the chance of heart disease❓</h4>\n",
        "</div>"
      ],
      "metadata": {
        "id": "9dcdfdab-a222-4e70-ae79-95de35c72a67"
      }
    },
    {
      "cell_type": "code",
      "source": [
        "fig, axes = plt.subplots(1, 2, figsize=(14, 5))  # Adjust width as needed\n",
        "\n",
        "# --- KDE Plot ---\n",
        "sns.kdeplot(data=df3[df3['heart_disease'] == 0]['resting_bp'], label='No Disease', shade=True, ax=axes[0])\n",
        "sns.kdeplot(data=df3[df3['heart_disease'] == 1]['resting_bp'], label='Heart Disease', shade=True, ax=axes[0])\n",
        "axes[0].set_title(\"Resting Blood Pressure by Heart Disease status\")\n",
        "axes[0].set_xlabel(\"Resting Blood Pressure\")\n",
        "axes[0].legend()\n",
        "\n",
        "# --- Violin Plot ---\n",
        "sns.violinplot(data=df3, x='heart_disease', y='resting_bp', ax=axes[1])\n",
        "axes[1].set_xticks([0, 1])\n",
        "axes[1].set_xticklabels(['No Disease', 'Heart Disease'])\n",
        "axes[1].set_title(\"Distribution of Resting Blood Pressure by Heart Disease Status\")\n",
        "axes[1].set_xlabel(\"Heart Disease\")\n",
        "axes[1].set_ylabel(\"Resting Blood Pressure\")\n",
        "\n",
        "plt.tight_layout()\n",
        "plt.show()\n"
      ],
      "metadata": {
        "trusted": true,
        "execution": {
          "iopub.status.busy": "2025-05-16T11:13:33.403732Z",
          "iopub.execute_input": "2025-05-16T11:13:33.40406Z",
          "iopub.status.idle": "2025-05-16T11:13:34.177207Z",
          "shell.execute_reply.started": "2025-05-16T11:13:33.404034Z",
          "shell.execute_reply": "2025-05-16T11:13:34.176432Z"
        },
        "id": "5b4fe9e9-dcbf-4747-918a-204fe64e3901"
      },
      "outputs": [],
      "execution_count": null
    },
    {
      "cell_type": "markdown",
      "source": [
        "<div style=\"text-align: left; font-size: 20px; font-weight: bold; padding: 10px; color: #333; background-color: #fff9c4;\">\n",
        "    <h6>✔️The plots show that people with heart disease tend to have a slightly lower resting blood pressure compared to those without heart disease.</h6>\n",
        "    <h6>✔️As we saw in the boxplot, blood pressure doesn’t differ much between people with and without heart disease — the plots here support that it is not a strong indicator of heart disease.</h6>\n",
        "</div>"
      ],
      "metadata": {
        "id": "fefa2b2c-60ee-4d98-857b-3f7d37839891"
      }
    },
    {
      "cell_type": "markdown",
      "source": [
        "<div style=\"text-align: left; font-size: 16px; font-weight: 600; padding: 15px 25px; color: #3e4a5b; background-color: #f0f0f0; border-radius: 50px; box-shadow: 0 4px 8px rgba(0, 0, 0, 0.1); width: fit-content; margin: 20px auto;\">\n",
        "    <h4 style=\"margin: 0;\"> What is the impact of cholesterol level on heart disease risk❓</h4>\n",
        "</div>"
      ],
      "metadata": {
        "id": "844ed007-b489-4453-b4ee-a6ad454e30a9"
      }
    },
    {
      "cell_type": "code",
      "source": [
        "fig, axes = plt.subplots(2, 2, figsize=(12, 8))  # (rows, columns)\n",
        "\n",
        "# First plot (boxplot)\n",
        "sns.boxplot(data=df3, x='heart_disease', y='cholesterol', palette='husl', ax=axes[0, 0])\n",
        "axes[0, 0].set_title('Cholesterol vs Heart Disease')\n",
        "axes[0, 0].set_xlabel('Heart Disease')\n",
        "axes[0, 0].set_ylabel('Cholesterol')\n",
        "axes[0, 0].set_xticks([0, 1])\n",
        "axes[0, 0].set_xticklabels(['No Disease', 'Disease'])\n",
        "\n",
        "# Second plot (scatter)\n",
        "sns.scatterplot(data=df3, x='age', y='cholesterol', hue='heart_disease', palette='husl', ax=axes[0, 1])\n",
        "axes[0, 1].set_title('Cholesterol vs Age')\n",
        "axes[0, 1].set_xlabel('Age')\n",
        "axes[0, 1].set_ylabel('Cholesterol')\n",
        "\n",
        "# Third plot (KDE)\n",
        "#sns.distplot(df3[df3['heart_disease'] == 0]['cholesterol'], label='No Disease', kde=True, color='red',ax=axes[1, 0])\n",
        "#sns.distplot(df3[df3['heart_disease'] == 1]['cholesterol'], label='Heart Disease', kde=True, color='blue',ax=axes[1, 0])\n",
        "\n",
        "sns.kdeplot(data=df3[df3['heart_disease'] == 0]['cholesterol'], label='No Disease', shade=True, ax=axes[1, 0])\n",
        "sns.kdeplot(data=df3[df3['heart_disease'] == 1]['cholesterol'], label='Heart Disease', shade=True, ax=axes[1, 0])\n",
        "axes[1, 0].set_title(\"Cholesterol Distribution by Heart Disease\")\n",
        "axes[1, 0].set_xlabel(\"Cholesterol\")\n",
        "axes[1, 0].legend()\n",
        "\n",
        "# Fourth plot (Violin)\n",
        "sns.violinplot(data=df3, x='heart_disease', y='cholesterol', palette='Set2', ax=axes[1, 1])\n",
        "axes[1, 1].set_xticks([0, 1])\n",
        "axes[1, 1].set_xticklabels(['No Disease', 'Heart Disease'])\n",
        "axes[1, 1].set_title(\"Violin Plot of Cholesterol\")\n",
        "axes[1, 1].set_xlabel(\"Heart Disease\")\n",
        "axes[1, 1].set_ylabel(\"Cholesterol\")\n",
        "\n",
        "plt.tight_layout()\n",
        "plt.show()"
      ],
      "metadata": {
        "trusted": true,
        "execution": {
          "iopub.status.busy": "2025-05-16T11:14:06.560457Z",
          "iopub.execute_input": "2025-05-16T11:14:06.561278Z",
          "iopub.status.idle": "2025-05-16T11:14:07.557914Z",
          "shell.execute_reply.started": "2025-05-16T11:14:06.561248Z",
          "shell.execute_reply": "2025-05-16T11:14:07.557091Z"
        },
        "id": "ea3e5457-cb83-433a-928d-d64d78d11a63"
      },
      "outputs": [],
      "execution_count": null
    },
    {
      "cell_type": "markdown",
      "source": [
        "<div style=\"text-align: left; font-size: 20px; font-weight: bold; padding: 10px; color: #333; background-color: #fff9c4;\">\n",
        "    <h6>✔️High Cholestrol leads to high chance of heart attack.</h6>\n",
        "    <h6>✔️However, as we can see in these plots, cholesterol levels don't differ much between people with and without heart disease.</h6>\n",
        "</div>"
      ],
      "metadata": {
        "id": "9ab681b5-61f6-4189-913d-adde4511bfa8"
      }
    },
    {
      "cell_type": "code",
      "source": [
        "sns.catplot(data=df3,x='age_group',hue='chest_pain_type',col='heart_disease',kind='count',palette=['lightgreen', 'red','yellow','brown'], height=5,ax=ax, aspect=1)\n",
        "plt.subplots_adjust(top=0.8)\n",
        "plt.suptitle('Age Distribution by Gender and Chest paint type')\n",
        "plt.show()"
      ],
      "metadata": {
        "trusted": true,
        "execution": {
          "iopub.status.busy": "2025-05-16T11:15:23.488964Z",
          "iopub.execute_input": "2025-05-16T11:15:23.489279Z",
          "iopub.status.idle": "2025-05-16T11:15:24.339205Z",
          "shell.execute_reply.started": "2025-05-16T11:15:23.489255Z",
          "shell.execute_reply": "2025-05-16T11:15:24.338312Z"
        },
        "id": "5de166e9-637c-4aad-8dd1-b22d12dd963c"
      },
      "outputs": [],
      "execution_count": null
    },
    {
      "cell_type": "markdown",
      "source": [
        "#### 💡People aged between 40 and 60 with non-anginal chest pain are more likely to have heart disease."
      ],
      "metadata": {
        "id": "47df05c3-8ded-4427-bfac-7bdb33c010fc"
      }
    }
  ]
}