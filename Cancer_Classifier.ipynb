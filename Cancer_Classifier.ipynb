{
  "metadata": {
    "kernelspec": {
      "language": "python",
      "display_name": "Python 3",
      "name": "python3"
    },
    "language_info": {
      "name": "python",
      "version": "3.11.11",
      "mimetype": "text/x-python",
      "codemirror_mode": {
        "name": "ipython",
        "version": 3
      },
      "pygments_lexer": "ipython3",
      "nbconvert_exporter": "python",
      "file_extension": ".py"
    },
    "kaggle": {
      "accelerator": "none",
      "dataSources": [
        {
          "sourceId": 2984728,
          "sourceType": "datasetVersion",
          "datasetId": 1829286
        }
      ],
      "dockerImageVersionId": 31040,
      "isInternetEnabled": true,
      "language": "python",
      "sourceType": "notebook",
      "isGpuEnabled": false
    },
    "colab": {
      "name": "Cancer Classifier",
      "provenance": [],
      "include_colab_link": true
    }
  },
  "nbformat_minor": 0,
  "nbformat": 4,
  "cells": [
    {
      "cell_type": "markdown",
      "metadata": {
        "id": "view-in-github",
        "colab_type": "text"
      },
      "source": [
        "<a href=\"https://colab.research.google.com/github/Dilipd0812/Objective-Learn-how-to-clean-and-prepare-raw-data-for-ML./blob/main/Cancer_Classifier.ipynb\" target=\"_parent\"><img src=\"https://colab.research.google.com/assets/colab-badge.svg\" alt=\"Open In Colab\"/></a>"
      ]
    },
    {
      "source": [
        "# IMPORTANT: RUN THIS CELL IN ORDER TO IMPORT YOUR KAGGLE DATA SOURCES,\n",
        "# THEN FEEL FREE TO DELETE THIS CELL.\n",
        "# NOTE: THIS NOTEBOOK ENVIRONMENT DIFFERS FROM KAGGLE'S PYTHON\n",
        "# ENVIRONMENT SO THERE MAY BE MISSING LIBRARIES USED BY YOUR\n",
        "# NOTEBOOK.\n",
        "import kagglehub\n",
        "yasserh_breast_cancer_dataset_path = kagglehub.dataset_download('yasserh/breast-cancer-dataset')\n",
        "\n",
        "print('Data source import complete.')\n"
      ],
      "metadata": {
        "id": "TgGG8JFSd1UH"
      },
      "cell_type": "code",
      "outputs": [],
      "execution_count": null
    },
    {
      "cell_type": "code",
      "source": [
        "# This Python 3 environment comes with many helpful analytics libraries installed\n",
        "# It is defined by the kaggle/python Docker image: https://github.com/kaggle/docker-python\n",
        "# For example, here's several helpful packages to load\n",
        "\n",
        "import numpy as np # linear algebra\n",
        "import pandas as pd # data processing, CSV file I/O (e.g. pd.read_csv)\n",
        "\n",
        "# Input data files are available in the read-only \"../input/\" directory\n",
        "# For example, running this (by clicking run or pressing Shift+Enter) will list all files under the input directory\n",
        "\n",
        "import os\n",
        "for dirname, _, filenames in os.walk('/kaggle/input'):\n",
        "    for filename in filenames:\n",
        "        print(os.path.join(dirname, filename))\n",
        "\n",
        "# You can write up to 20GB to the current directory (/kaggle/working/) that gets preserved as output when you create a version using \"Save & Run All\"\n",
        "# You can also write temporary files to /kaggle/temp/, but they won't be saved outside of the current session"
      ],
      "metadata": {
        "_uuid": "8f2839f25d086af736a60e9eeb907d3b93b6e0e5",
        "_cell_guid": "b1076dfc-b9ad-4769-8c92-a6c4dae69d19",
        "trusted": true,
        "execution": {
          "iopub.status.busy": "2025-06-11T16:14:03.924865Z",
          "iopub.execute_input": "2025-06-11T16:14:03.925156Z",
          "iopub.status.idle": "2025-06-11T16:14:06.063825Z",
          "shell.execute_reply.started": "2025-06-11T16:14:03.925128Z",
          "shell.execute_reply": "2025-06-11T16:14:06.062924Z"
        },
        "id": "I0lnwW2Rd1UI"
      },
      "outputs": [],
      "execution_count": null
    },
    {
      "cell_type": "code",
      "source": [
        "df=pd.read_csv('/kaggle/input/breast-cancer-dataset/breast-cancer.csv')"
      ],
      "metadata": {
        "trusted": true,
        "execution": {
          "iopub.status.busy": "2025-06-11T16:15:13.349143Z",
          "iopub.execute_input": "2025-06-11T16:15:13.349492Z",
          "iopub.status.idle": "2025-06-11T16:15:13.361465Z",
          "shell.execute_reply.started": "2025-06-11T16:15:13.349458Z",
          "shell.execute_reply": "2025-06-11T16:15:13.360592Z"
        },
        "id": "ox6Ye50Gd1UI"
      },
      "outputs": [],
      "execution_count": null
    },
    {
      "cell_type": "code",
      "source": [
        "df.head()"
      ],
      "metadata": {
        "trusted": true,
        "execution": {
          "iopub.status.busy": "2025-06-11T16:15:21.161828Z",
          "iopub.execute_input": "2025-06-11T16:15:21.16212Z",
          "iopub.status.idle": "2025-06-11T16:15:21.202054Z",
          "shell.execute_reply.started": "2025-06-11T16:15:21.162098Z",
          "shell.execute_reply": "2025-06-11T16:15:21.201161Z"
        },
        "id": "vAIy-MCfd1UI"
      },
      "outputs": [],
      "execution_count": null
    },
    {
      "cell_type": "code",
      "source": [
        "df.columns"
      ],
      "metadata": {
        "trusted": true,
        "execution": {
          "iopub.status.busy": "2025-06-11T16:17:31.750975Z",
          "iopub.execute_input": "2025-06-11T16:17:31.751276Z",
          "iopub.status.idle": "2025-06-11T16:17:31.758427Z",
          "shell.execute_reply.started": "2025-06-11T16:17:31.751251Z",
          "shell.execute_reply": "2025-06-11T16:17:31.757614Z"
        },
        "id": "4ovKmzHhd1UI"
      },
      "outputs": [],
      "execution_count": null
    },
    {
      "cell_type": "code",
      "source": [
        "df.info()"
      ],
      "metadata": {
        "trusted": true,
        "execution": {
          "iopub.status.busy": "2025-06-11T16:16:48.759993Z",
          "iopub.execute_input": "2025-06-11T16:16:48.760312Z",
          "iopub.status.idle": "2025-06-11T16:16:48.784969Z",
          "shell.execute_reply.started": "2025-06-11T16:16:48.760288Z",
          "shell.execute_reply": "2025-06-11T16:16:48.784179Z"
        },
        "id": "dGuUhhOVd1UI"
      },
      "outputs": [],
      "execution_count": null
    },
    {
      "cell_type": "code",
      "source": [
        "vc=df['diagnosis'].value_counts()"
      ],
      "metadata": {
        "trusted": true,
        "execution": {
          "iopub.status.busy": "2025-06-11T16:25:57.386107Z",
          "iopub.execute_input": "2025-06-11T16:25:57.386371Z",
          "iopub.status.idle": "2025-06-11T16:25:57.391315Z",
          "shell.execute_reply.started": "2025-06-11T16:25:57.386354Z",
          "shell.execute_reply": "2025-06-11T16:25:57.390267Z"
        },
        "id": "z7UMbeSDd1UI"
      },
      "outputs": [],
      "execution_count": null
    },
    {
      "cell_type": "code",
      "source": [
        "import matplotlib.pyplot as plt\n",
        "\n",
        "plt.pie(vc.values,labels=['B','M'],autopct='%1.1f%%')\n",
        "plt.show()"
      ],
      "metadata": {
        "trusted": true,
        "execution": {
          "iopub.status.busy": "2025-06-11T16:27:04.09731Z",
          "iopub.execute_input": "2025-06-11T16:27:04.097604Z",
          "iopub.status.idle": "2025-06-11T16:27:04.172988Z",
          "shell.execute_reply.started": "2025-06-11T16:27:04.097582Z",
          "shell.execute_reply": "2025-06-11T16:27:04.172105Z"
        },
        "id": "_WeUFV-Zd1UJ"
      },
      "outputs": [],
      "execution_count": null
    },
    {
      "cell_type": "code",
      "source": [
        "df.head(3)"
      ],
      "metadata": {
        "trusted": true,
        "execution": {
          "iopub.status.busy": "2025-06-11T16:28:00.144872Z",
          "iopub.execute_input": "2025-06-11T16:28:00.14521Z",
          "iopub.status.idle": "2025-06-11T16:28:00.167545Z",
          "shell.execute_reply.started": "2025-06-11T16:28:00.145186Z",
          "shell.execute_reply": "2025-06-11T16:28:00.166793Z"
        },
        "id": "8r6z3Fftd1UJ"
      },
      "outputs": [],
      "execution_count": null
    },
    {
      "cell_type": "code",
      "source": [
        "df.drop('id',axis=1)"
      ],
      "metadata": {
        "trusted": true,
        "execution": {
          "iopub.status.busy": "2025-06-11T16:29:15.947251Z",
          "iopub.execute_input": "2025-06-11T16:29:15.947521Z",
          "iopub.status.idle": "2025-06-11T16:29:15.974661Z",
          "shell.execute_reply.started": "2025-06-11T16:29:15.947503Z",
          "shell.execute_reply": "2025-06-11T16:29:15.973663Z"
        },
        "id": "gQAR_J2sd1UJ"
      },
      "outputs": [],
      "execution_count": null
    },
    {
      "cell_type": "code",
      "source": [
        "y=df['diagnosis']\n",
        "x=df.drop('diagnosis',axis=1)"
      ],
      "metadata": {
        "trusted": true,
        "execution": {
          "iopub.status.busy": "2025-06-11T16:35:35.717827Z",
          "iopub.execute_input": "2025-06-11T16:35:35.718155Z",
          "iopub.status.idle": "2025-06-11T16:35:35.724148Z",
          "shell.execute_reply.started": "2025-06-11T16:35:35.718134Z",
          "shell.execute_reply": "2025-06-11T16:35:35.723221Z"
        },
        "id": "k0GB3hC5d1UJ"
      },
      "outputs": [],
      "execution_count": null
    },
    {
      "cell_type": "code",
      "source": [
        "from sklearn.tree import DecisionTreeClassifier #ezberlemeye eğimli bir model iyi bir model değildir.Hem öğrenme hem ezberleme yapar,overfitting durumu olabilir.\n",
        "from sklearn.model_selection import train_test_split #öğrenme kısmı burasıdır\n",
        "\n",
        "x_train,x_test,y_train,y_test=train_test_split(x,y,train_size=0.70,random_state=42) #eğitim için datanın yüzde yetmiş kullanımıştır\n",
        "\n",
        "tree=DecisionTreeClassifier()\n",
        "model=tree.fit(x_train,y_train)\n",
        "model.score(x_test,y_test)\n"
      ],
      "metadata": {
        "trusted": true,
        "execution": {
          "iopub.status.busy": "2025-06-11T17:05:07.423827Z",
          "iopub.execute_input": "2025-06-11T17:05:07.424125Z",
          "iopub.status.idle": "2025-06-11T17:05:07.445394Z",
          "shell.execute_reply.started": "2025-06-11T17:05:07.424105Z",
          "shell.execute_reply": "2025-06-11T17:05:07.444676Z"
        },
        "id": "uGHlklFId1UJ"
      },
      "outputs": [],
      "execution_count": null
    },
    {
      "cell_type": "code",
      "source": [
        "tree=DecisionTreeClassifier()\n",
        "model=tree.fit(x,y)\n",
        "model.score(x,y)"
      ],
      "metadata": {
        "trusted": true,
        "execution": {
          "iopub.status.busy": "2025-06-11T17:04:23.272294Z",
          "iopub.execute_input": "2025-06-11T17:04:23.272574Z",
          "iopub.status.idle": "2025-06-11T17:04:23.295409Z",
          "shell.execute_reply.started": "2025-06-11T17:04:23.272556Z",
          "shell.execute_reply": "2025-06-11T17:04:23.294517Z"
        },
        "id": "i1Ruuadtd1UJ"
      },
      "outputs": [],
      "execution_count": null
    },
    {
      "cell_type": "code",
      "source": [
        "from sklearn.ensemble import RandomForestClassifier #birden çok DecisionTreeClassifier birleşiminde oluşur,overfitting'e karşı dirençli.\n",
        "#overfiting daha az ama yavaş,hesaplama ağaçlarının iyi yerlerini seçer."
      ],
      "metadata": {
        "trusted": true,
        "execution": {
          "iopub.status.busy": "2025-06-11T17:27:27.56183Z",
          "iopub.execute_input": "2025-06-11T17:27:27.562161Z",
          "iopub.status.idle": "2025-06-11T17:27:27.6904Z",
          "shell.execute_reply.started": "2025-06-11T17:27:27.56214Z",
          "shell.execute_reply": "2025-06-11T17:27:27.689411Z"
        },
        "id": "hoaRBgb3d1UJ"
      },
      "outputs": [],
      "execution_count": null
    },
    {
      "cell_type": "code",
      "source": [
        "rf=RandomForestClassifier()\n",
        "model=rf.fit(x_train,y_train)\n",
        "model.score(x_test,y_test)"
      ],
      "metadata": {
        "trusted": true,
        "execution": {
          "iopub.status.busy": "2025-06-11T17:28:25.662775Z",
          "iopub.execute_input": "2025-06-11T17:28:25.663059Z",
          "iopub.status.idle": "2025-06-11T17:28:25.880159Z",
          "shell.execute_reply.started": "2025-06-11T17:28:25.663039Z",
          "shell.execute_reply": "2025-06-11T17:28:25.879343Z"
        },
        "id": "wCzr7hbdd1UJ"
      },
      "outputs": [],
      "execution_count": null
    },
    {
      "cell_type": "code",
      "source": [
        "rf=RandomForestClassifier(n_estimators=50) #n_estimators ağaç sayısını hesaplar.değer vermezsek default değer 100.\n",
        "model=rf.fit(x_train,y_train)\n",
        "model.score(x_test,y_test)"
      ],
      "metadata": {
        "trusted": true,
        "execution": {
          "iopub.status.busy": "2025-06-11T17:38:19.454119Z",
          "iopub.execute_input": "2025-06-11T17:38:19.455175Z",
          "iopub.status.idle": "2025-06-11T17:38:19.609819Z",
          "shell.execute_reply.started": "2025-06-11T17:38:19.455141Z",
          "shell.execute_reply": "2025-06-11T17:38:19.609008Z"
        },
        "id": "qo7gW6Wcd1UJ"
      },
      "outputs": [],
      "execution_count": null
    }
  ]
}